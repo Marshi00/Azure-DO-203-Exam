{
  "cells": [
    {
      "cell_type": "code",
      "source": [
        "# Read from Cosmos DB analytical store into a Spark DataFrame and display 10 rows from the DataFrame\n",
        "# To select a preferred list of regions in a multi-region Cosmos DB account, add .option(\"spark.cosmos.preferredRegions\", \"<Region1>,<Region2>\")\n",
        "\n",
        "df = spark.read\\\n",
        "    .format(\"cosmos.olap\")\\\n",
        "    .option(\"spark.synapse.linkedService\", \"AdventureWorks\")\\\n",
        "    .option(\"spark.cosmos.container\", \"Sales\")\\\n",
        "    .load()\n",
        "\n",
        "display(df.limit(10))"
      ],
      "outputs": [
        {
          "output_type": "display_data",
          "data": {
            "application/vnd.livy.statement-meta+json": {
              "spark_pool": "sparkaz0clp1",
              "session_id": "0",
              "statement_id": 2,
              "state": "finished",
              "livy_statement_state": "available",
              "queued_time": "2023-11-14T02:56:04.8358533Z",
              "session_start_time": "2023-11-14T02:56:04.9074091Z",
              "execution_start_time": "2023-11-14T02:59:31.4031825Z",
              "execution_finish_time": "2023-11-14T03:00:05.5029875Z",
              "spark_jobs": null,
              "parent_msg_id": "5eefed66-081a-4234-9019-0e789612210c"
            },
            "text/plain": "StatementMeta(sparkaz0clp1, 0, 2, Finished, Available)"
          },
          "metadata": {}
        },
        {
          "output_type": "display_data",
          "data": {
            "application/vnd.synapse.widget-view+json": {
              "widget_id": "9c391166-30a6-4245-acee-47a097a08174",
              "widget_type": "Synapse.DataFrame"
            },
            "text/plain": "SynapseWidget(Synapse.DataFrame, 9c391166-30a6-4245-acee-47a097a08174)"
          },
          "metadata": {}
        }
      ],
      "execution_count": 1,
      "metadata": {
        "collapsed": false
      }
    },
    {
      "cell_type": "code",
      "source": [
        " customer_df = df.select(\"customerid\", \"customerdetails\")\r\n",
        " display(customer_df)"
      ],
      "outputs": [
        {
          "output_type": "display_data",
          "data": {
            "application/vnd.livy.statement-meta+json": {
              "spark_pool": "sparkaz0clp1",
              "session_id": "0",
              "statement_id": 3,
              "state": "finished",
              "livy_statement_state": "available",
              "queued_time": "2023-11-14T03:00:23.7521964Z",
              "session_start_time": null,
              "execution_start_time": "2023-11-14T03:00:23.9383384Z",
              "execution_finish_time": "2023-11-14T03:00:25.1210291Z",
              "spark_jobs": null,
              "parent_msg_id": "cb2be3f8-fe9e-45ea-a8a5-82d334c4d6b5"
            },
            "text/plain": "StatementMeta(sparkaz0clp1, 0, 3, Finished, Available)"
          },
          "metadata": {}
        },
        {
          "output_type": "display_data",
          "data": {
            "application/vnd.synapse.widget-view+json": {
              "widget_id": "033f084e-fbe5-4263-9a9f-f5a7c34fce0c",
              "widget_type": "Synapse.DataFrame"
            },
            "text/plain": "SynapseWidget(Synapse.DataFrame, 033f084e-fbe5-4263-9a9f-f5a7c34fce0c)"
          },
          "metadata": {}
        }
      ],
      "execution_count": 2,
      "metadata": {
        "jupyter": {
          "source_hidden": false,
          "outputs_hidden": false
        },
        "nteract": {
          "transient": {
            "deleting": false
          }
        },
        "collapsed": false
      }
    },
    {
      "cell_type": "code",
      "source": [
        " customerdetails_df = df.select(\"customerid\", \"customerdetails.*\")\r\n",
        " display(customerdetails_df)"
      ],
      "outputs": [
        {
          "output_type": "display_data",
          "data": {
            "application/vnd.livy.statement-meta+json": {
              "spark_pool": "sparkaz0clp1",
              "session_id": "0",
              "statement_id": 4,
              "state": "finished",
              "livy_statement_state": "available",
              "queued_time": "2023-11-14T03:00:38.1226763Z",
              "session_start_time": null,
              "execution_start_time": "2023-11-14T03:00:38.3055953Z",
              "execution_finish_time": "2023-11-14T03:00:39.4926687Z",
              "spark_jobs": null,
              "parent_msg_id": "c84af244-af23-4e5c-bc5a-210503127bf4"
            },
            "text/plain": "StatementMeta(sparkaz0clp1, 0, 4, Finished, Available)"
          },
          "metadata": {}
        },
        {
          "output_type": "display_data",
          "data": {
            "application/vnd.synapse.widget-view+json": {
              "widget_id": "4635a786-c610-433f-9304-f96f742d7d42",
              "widget_type": "Synapse.DataFrame"
            },
            "text/plain": "SynapseWidget(Synapse.DataFrame, 4635a786-c610-433f-9304-f96f742d7d42)"
          },
          "metadata": {}
        }
      ],
      "execution_count": 3,
      "metadata": {
        "jupyter": {
          "source_hidden": false,
          "outputs_hidden": false
        },
        "nteract": {
          "transient": {
            "deleting": false
          }
        },
        "collapsed": false
      }
    },
    {
      "cell_type": "code",
      "source": [
        " %%sql\r\n",
        "\r\n",
        " -- Create a logical database in the Spark metastore\r\n",
        " CREATE DATABASE salesdb;\r\n",
        "\r\n",
        " USE salesdb;\r\n",
        "\r\n",
        " -- Create a table from the Cosmos DB container\r\n",
        " CREATE TABLE salesorders using cosmos.olap options (\r\n",
        "     spark.synapse.linkedService 'AdventureWorks',\r\n",
        "     spark.cosmos.container 'Sales'\r\n",
        " );\r\n",
        "\r\n",
        " -- Query the table\r\n",
        " SELECT *\r\n",
        " FROM salesorders;"
      ],
      "outputs": [
        {
          "output_type": "display_data",
          "data": {
            "application/vnd.livy.statement-meta+json": {
              "spark_pool": null,
              "session_id": null,
              "statement_id": -1,
              "state": "finished",
              "livy_statement_state": "available",
              "queued_time": "2023-11-14T03:00:42.5365655Z",
              "session_start_time": null,
              "execution_start_time": "2023-11-14T03:01:22.7243755Z",
              "execution_finish_time": "2023-11-14T03:01:22.7245404Z",
              "spark_jobs": null,
              "parent_msg_id": "cc2494ba-3ee6-4c8e-888b-59d0142d2f83"
            },
            "text/plain": "StatementMeta(, , -1, Finished, Available)"
          },
          "metadata": {}
        },
        {
          "output_type": "execute_result",
          "execution_count": 4,
          "data": {
            "application/vnd.synapse.sparksql-result+json": {
              "schema": {
                "type": "struct",
                "fields": []
              },
              "data": []
            },
            "text/plain": "<Spark SQL result set with 0 rows and 0 fields>"
          },
          "metadata": {}
        },
        {
          "output_type": "execute_result",
          "execution_count": 4,
          "data": {
            "application/vnd.synapse.sparksql-result+json": {
              "schema": {
                "type": "struct",
                "fields": []
              },
              "data": []
            },
            "text/plain": "<Spark SQL result set with 0 rows and 0 fields>"
          },
          "metadata": {}
        },
        {
          "output_type": "execute_result",
          "execution_count": 4,
          "data": {
            "application/vnd.synapse.sparksql-result+json": {
              "schema": {
                "type": "struct",
                "fields": []
              },
              "data": []
            },
            "text/plain": "<Spark SQL result set with 0 rows and 0 fields>"
          },
          "metadata": {}
        },
        {
          "output_type": "execute_result",
          "execution_count": 4,
          "data": {
            "application/vnd.synapse.sparksql-result+json": {
              "schema": {
                "type": "struct",
                "fields": [
                  {
                    "name": "_rid",
                    "type": "string",
                    "nullable": true,
                    "metadata": {}
                  },
                  {
                    "name": "_ts",
                    "type": "long",
                    "nullable": true,
                    "metadata": {}
                  },
                  {
                    "name": "id",
                    "type": "string",
                    "nullable": true,
                    "metadata": {}
                  },
                  {
                    "name": "orderdate",
                    "type": "string",
                    "nullable": true,
                    "metadata": {}
                  },
                  {
                    "name": "customerid",
                    "type": "long",
                    "nullable": true,
                    "metadata": {}
                  },
                  {
                    "name": "customerdetails",
                    "type": {
                      "type": "struct",
                      "fields": [
                        {
                          "name": "customername",
                          "type": "string",
                          "nullable": true,
                          "metadata": {}
                        },
                        {
                          "name": "customeremail",
                          "type": "string",
                          "nullable": true,
                          "metadata": {}
                        }
                      ]
                    },
                    "nullable": true,
                    "metadata": {}
                  },
                  {
                    "name": "product",
                    "type": "string",
                    "nullable": true,
                    "metadata": {}
                  },
                  {
                    "name": "quantity",
                    "type": "long",
                    "nullable": true,
                    "metadata": {}
                  },
                  {
                    "name": "price",
                    "type": "double",
                    "nullable": true,
                    "metadata": {}
                  },
                  {
                    "name": "_etag",
                    "type": "string",
                    "nullable": true,
                    "metadata": {}
                  }
                ]
              },
              "data": [
                [
                  "TG4lAP0NWwgCAAAAAAAAAA==",
                  "1699929628",
                  "SO43704",
                  "2019-07-01",
                  "124",
                  {
                    "schema": [
                      {
                        "name": "customername",
                        "dataType": {},
                        "nullable": true,
                        "metadata": {
                          "map": {}
                        }
                      },
                      {
                        "name": "customeremail",
                        "dataType": {},
                        "nullable": true,
                        "metadata": {
                          "map": {}
                        }
                      }
                    ],
                    "values": [
                      "Julio Ruiz",
                      "julio1@adventure-works.com"
                    ]
                  },
                  "Mountain-100 Black, 48",
                  "1",
                  3374.99,
                  "\"2f00ee9a-0000-2300-0000-6552de1c0000\""
                ],
                [
                  "TG4lAP0NWwgDAAAAAAAAAA==",
                  "1699929640",
                  "SO43707",
                  "2019-07-02",
                  "125",
                  {
                    "schema": [
                      {
                        "name": "customername",
                        "dataType": {},
                        "nullable": true,
                        "metadata": {
                          "map": {}
                        }
                      },
                      {
                        "name": "customeremail",
                        "dataType": {},
                        "nullable": true,
                        "metadata": {
                          "map": {}
                        }
                      }
                    ],
                    "values": [
                      "Emma Brown",
                      "emma3@adventure-works.com"
                    ]
                  },
                  "Road-150 Red, 48",
                  "1",
                  3578.27,
                  "\"2f00ef9a-0000-2300-0000-6552de280000\""
                ],
                [
                  "TG4lAP0NWwgBAAAAAAAAAA==",
                  "1699929614",
                  "SO43701",
                  "2019-07-01",
                  "123",
                  {
                    "schema": [
                      {
                        "name": "customername",
                        "dataType": {},
                        "nullable": true,
                        "metadata": {
                          "map": {}
                        }
                      },
                      {
                        "name": "customeremail",
                        "dataType": {},
                        "nullable": true,
                        "metadata": {
                          "map": {}
                        }
                      }
                    ],
                    "values": [
                      "Christy Zhu",
                      "christy12@adventure-works.com"
                    ]
                  },
                  "Mountain-100 Silver, 44",
                  "1",
                  3399.99,
                  "\"2f00ed9a-0000-2300-0000-6552de0e0000\""
                ]
              ]
            },
            "text/plain": "<Spark SQL result set with 3 rows and 10 fields>"
          },
          "metadata": {}
        }
      ],
      "execution_count": 4,
      "metadata": {
        "jupyter": {
          "source_hidden": false,
          "outputs_hidden": false
        },
        "nteract": {
          "transient": {
            "deleting": false
          }
        },
        "microsoft": {
          "language": "sparksql"
        },
        "collapsed": false
      }
    },
    {
      "cell_type": "code",
      "source": [
        "%%sql\r\n",
        "\r\n",
        "SELECT id, orderdate, customerdetails.customername, product\r\n",
        "FROM salesorders\r\n",
        "ORDER BY id;"
      ],
      "outputs": [
        {
          "output_type": "display_data",
          "data": {
            "application/vnd.livy.statement-meta+json": {
              "spark_pool": "sparkaz0clp1",
              "session_id": "0",
              "statement_id": 10,
              "state": "finished",
              "livy_statement_state": "available",
              "queued_time": "2023-11-14T03:12:46.3380736Z",
              "session_start_time": null,
              "execution_start_time": "2023-11-14T03:12:46.5138603Z",
              "execution_finish_time": "2023-11-14T03:12:49.4308448Z",
              "spark_jobs": null,
              "parent_msg_id": "dea29691-f12b-4d14-beb5-8b47045c3f9c"
            },
            "text/plain": "StatementMeta(sparkaz0clp1, 0, 10, Finished, Available)"
          },
          "metadata": {}
        },
        {
          "output_type": "execute_result",
          "execution_count": 6,
          "data": {
            "application/vnd.synapse.sparksql-result+json": {
              "schema": {
                "type": "struct",
                "fields": [
                  {
                    "name": "id",
                    "type": "string",
                    "nullable": true,
                    "metadata": {}
                  },
                  {
                    "name": "orderdate",
                    "type": "string",
                    "nullable": true,
                    "metadata": {}
                  },
                  {
                    "name": "customername",
                    "type": "string",
                    "nullable": true,
                    "metadata": {}
                  },
                  {
                    "name": "product",
                    "type": "string",
                    "nullable": true,
                    "metadata": {}
                  }
                ]
              },
              "data": [
                [
                  "SO43701",
                  "2019-07-01",
                  "Christy Zhu",
                  "Mountain-100 Silver, 44"
                ],
                [
                  "SO43704",
                  "2019-07-01",
                  "Julio Ruiz",
                  "Mountain-100 Black, 48"
                ],
                [
                  "SO43707",
                  "2019-07-02",
                  "Emma Brown",
                  "Road-150 Red, 48"
                ],
                [
                  "SO43708",
                  "2019-07-02",
                  "Samir Nadoy",
                  "Road-150 Black, 48"
                ]
              ]
            },
            "text/plain": "<Spark SQL result set with 4 rows and 4 fields>"
          },
          "metadata": {}
        }
      ],
      "execution_count": 6,
      "metadata": {
        "jupyter": {
          "source_hidden": false,
          "outputs_hidden": false
        },
        "nteract": {
          "transient": {
            "deleting": false
          }
        },
        "microsoft": {
          "language": "sparksql"
        },
        "collapsed": false
      }
    }
  ],
  "metadata": {
    "language_info": {
      "name": "python"
    },
    "kernelspec": {
      "name": "synapse_pyspark",
      "language": "Python",
      "display_name": "Synapse PySpark"
    },
    "kernel_info": {
      "name": "synapse_pyspark"
    },
    "save_output": true,
    "synapse_widget": {
      "version": "0.1",
      "state": {
        "9c391166-30a6-4245-acee-47a097a08174": {
          "type": "Synapse.DataFrame",
          "sync_state": {
            "table": {
              "rows": [
                {
                  "0": "TG4lAP0NWwgBAAAAAAAAAA==",
                  "1": "1699929614",
                  "2": "SO43701",
                  "3": "2019-07-01",
                  "4": "123",
                  "5": {
                    "customername": "Christy Zhu",
                    "customeremail": "christy12@adventure-works.com"
                  },
                  "6": "Mountain-100 Silver, 44",
                  "7": "1",
                  "8": "3399.99",
                  "9": "\"2f00ed9a-0000-2300-0000-6552de0e0000\""
                },
                {
                  "0": "TG4lAP0NWwgCAAAAAAAAAA==",
                  "1": "1699929628",
                  "2": "SO43704",
                  "3": "2019-07-01",
                  "4": "124",
                  "5": {
                    "customername": "Julio Ruiz",
                    "customeremail": "julio1@adventure-works.com"
                  },
                  "6": "Mountain-100 Black, 48",
                  "7": "1",
                  "8": "3374.99",
                  "9": "\"2f00ee9a-0000-2300-0000-6552de1c0000\""
                },
                {
                  "0": "TG4lAP0NWwgDAAAAAAAAAA==",
                  "1": "1699929640",
                  "2": "SO43707",
                  "3": "2019-07-02",
                  "4": "125",
                  "5": {
                    "customername": "Emma Brown",
                    "customeremail": "emma3@adventure-works.com"
                  },
                  "6": "Road-150 Red, 48",
                  "7": "1",
                  "8": "3578.27",
                  "9": "\"2f00ef9a-0000-2300-0000-6552de280000\""
                }
              ],
              "schema": [
                {
                  "key": "0",
                  "name": "_rid",
                  "type": "string"
                },
                {
                  "key": "1",
                  "name": "_ts",
                  "type": "bigint"
                },
                {
                  "key": "2",
                  "name": "id",
                  "type": "string"
                },
                {
                  "key": "3",
                  "name": "orderdate",
                  "type": "string"
                },
                {
                  "key": "4",
                  "name": "customerid",
                  "type": "bigint"
                },
                {
                  "key": "5",
                  "name": "customerdetails",
                  "type": "StructType(StructField(customername,StringType,true), StructField(customeremail,StringType,true))"
                },
                {
                  "key": "6",
                  "name": "product",
                  "type": "string"
                },
                {
                  "key": "7",
                  "name": "quantity",
                  "type": "bigint"
                },
                {
                  "key": "8",
                  "name": "price",
                  "type": "double"
                },
                {
                  "key": "9",
                  "name": "_etag",
                  "type": "string"
                }
              ],
              "truncated": false
            },
            "isSummary": false,
            "language": "scala"
          },
          "persist_state": {
            "view": {
              "type": "details",
              "tableOptions": {},
              "chartOptions": {
                "chartType": "bar",
                "aggregationType": "sum",
                "categoryFieldKeys": [
                  "0"
                ],
                "seriesFieldKeys": [
                  "1"
                ],
                "isStacked": false
              }
            }
          }
        },
        "033f084e-fbe5-4263-9a9f-f5a7c34fce0c": {
          "type": "Synapse.DataFrame",
          "sync_state": {
            "table": {
              "rows": [
                {
                  "0": "124",
                  "1": {
                    "customername": "Julio Ruiz",
                    "customeremail": "julio1@adventure-works.com"
                  }
                },
                {
                  "0": "125",
                  "1": {
                    "customername": "Emma Brown",
                    "customeremail": "emma3@adventure-works.com"
                  }
                },
                {
                  "0": "123",
                  "1": {
                    "customername": "Christy Zhu",
                    "customeremail": "christy12@adventure-works.com"
                  }
                }
              ],
              "schema": [
                {
                  "key": "0",
                  "name": "customerid",
                  "type": "bigint"
                },
                {
                  "key": "1",
                  "name": "customerdetails",
                  "type": "StructType(StructField(customername,StringType,true), StructField(customeremail,StringType,true))"
                }
              ],
              "truncated": false
            },
            "isSummary": false,
            "language": "scala"
          },
          "persist_state": {
            "view": {
              "type": "details",
              "tableOptions": {},
              "chartOptions": {
                "chartType": "bar",
                "aggregationType": "sum",
                "categoryFieldKeys": [],
                "seriesFieldKeys": [
                  "0"
                ],
                "isStacked": false
              }
            }
          }
        },
        "4635a786-c610-433f-9304-f96f742d7d42": {
          "type": "Synapse.DataFrame",
          "sync_state": {
            "table": {
              "rows": [
                {
                  "0": "124",
                  "1": "Julio Ruiz",
                  "2": "julio1@adventure-works.com"
                },
                {
                  "0": "125",
                  "1": "Emma Brown",
                  "2": "emma3@adventure-works.com"
                },
                {
                  "0": "123",
                  "1": "Christy Zhu",
                  "2": "christy12@adventure-works.com"
                }
              ],
              "schema": [
                {
                  "key": "0",
                  "name": "customerid",
                  "type": "bigint"
                },
                {
                  "key": "1",
                  "name": "customername",
                  "type": "string"
                },
                {
                  "key": "2",
                  "name": "customeremail",
                  "type": "string"
                }
              ],
              "truncated": false
            },
            "isSummary": false,
            "language": "scala"
          },
          "persist_state": {
            "view": {
              "type": "details",
              "tableOptions": {},
              "chartOptions": {
                "chartType": "bar",
                "aggregationType": "sum",
                "categoryFieldKeys": [
                  "1"
                ],
                "seriesFieldKeys": [
                  "0"
                ],
                "isStacked": false
              }
            }
          }
        }
      }
    }
  },
  "nbformat": 4,
  "nbformat_minor": 2
}