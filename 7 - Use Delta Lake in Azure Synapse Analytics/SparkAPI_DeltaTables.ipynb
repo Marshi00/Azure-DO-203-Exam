{
  "cells": [
    {
      "cell_type": "code",
      "source": [
        "%%pyspark\r\n",
        "df = spark.read.load('abfss://files@datalake5bdznl9.dfs.core.windows.net/products/products.csv', format='csv'\r\n",
        ", header=True\r\n",
        ")\r\n",
        "display(df.limit(10))"
      ],
      "outputs": [
        {
          "output_type": "display_data",
          "data": {
            "application/vnd.livy.statement-meta+json": {
              "spark_pool": "spark5bdznl9",
              "session_id": "0",
              "statement_id": 2,
              "state": "finished",
              "livy_statement_state": "available",
              "queued_time": "2023-10-28T01:06:13.5124191Z",
              "session_start_time": "2023-10-28T01:06:13.5566211Z",
              "execution_start_time": "2023-10-28T01:09:24.1689423Z",
              "execution_finish_time": "2023-10-28T01:09:57.949827Z",
              "spark_jobs": null,
              "parent_msg_id": "d726290f-b2d1-46cd-8123-76bc55f6d086"
            },
            "text/plain": "StatementMeta(spark5bdznl9, 0, 2, Finished, Available)"
          },
          "metadata": {}
        },
        {
          "output_type": "display_data",
          "data": {
            "application/vnd.synapse.widget-view+json": {
              "widget_id": "267b73fe-2699-441c-8bf8-1c38a9bc9eff",
              "widget_type": "Synapse.DataFrame"
            },
            "text/plain": "SynapseWidget(Synapse.DataFrame, 267b73fe-2699-441c-8bf8-1c38a9bc9eff)"
          },
          "metadata": {}
        }
      ],
      "execution_count": 1,
      "metadata": {
        "microsoft": {
          "language": "python"
        },
        "collapsed": false
      }
    },
    {
      "cell_type": "code",
      "source": [
        " delta_table_path = \"/delta/products-delta\"\r\n",
        " df.write.format(\"delta\").save(delta_table_path)"
      ],
      "outputs": [
        {
          "output_type": "display_data",
          "data": {
            "application/vnd.livy.statement-meta+json": {
              "spark_pool": "spark5bdznl9",
              "session_id": "0",
              "statement_id": 3,
              "state": "finished",
              "livy_statement_state": "available",
              "queued_time": "2023-10-28T01:26:30.6309886Z",
              "session_start_time": null,
              "execution_start_time": "2023-10-28T01:26:32.1035105Z",
              "execution_finish_time": "2023-10-28T01:26:49.0417036Z",
              "spark_jobs": null,
              "parent_msg_id": "95c71fbb-8b47-40fb-b001-afb2881664e4"
            },
            "text/plain": "StatementMeta(spark5bdznl9, 0, 3, Finished, Available)"
          },
          "metadata": {}
        }
      ],
      "execution_count": 2,
      "metadata": {
        "jupyter": {
          "source_hidden": false,
          "outputs_hidden": false
        },
        "nteract": {
          "transient": {
            "deleting": false
          }
        }
      }
    },
    {
      "cell_type": "code",
      "source": [
        " from delta.tables import *\r\n",
        " from pyspark.sql.functions import *\r\n",
        "\r\n",
        " # Create a deltaTable object\r\n",
        " deltaTable = DeltaTable.forPath(spark, delta_table_path)\r\n",
        "\r\n",
        " # Update the table (reduce price of product 771 by 10%)\r\n",
        " deltaTable.update(\r\n",
        "     condition = \"ProductID == 771\",\r\n",
        "     set = { \"ListPrice\": \"ListPrice * 0.9\" })\r\n",
        "\r\n",
        " # View the updated data as a dataframe\r\n",
        " deltaTable.toDF().show(10)"
      ],
      "outputs": [
        {
          "output_type": "display_data",
          "data": {
            "application/vnd.livy.statement-meta+json": {
              "spark_pool": "spark5bdznl9",
              "session_id": "0",
              "statement_id": 4,
              "state": "finished",
              "livy_statement_state": "available",
              "queued_time": "2023-10-28T01:44:30.7374453Z",
              "session_start_time": null,
              "execution_start_time": "2023-10-28T01:44:30.8894988Z",
              "execution_finish_time": "2023-10-28T01:44:43.7369607Z",
              "spark_jobs": null,
              "parent_msg_id": "f6cca36a-3dda-4f5d-bda1-f6e33eb3c659"
            },
            "text/plain": "StatementMeta(spark5bdznl9, 0, 4, Finished, Available)"
          },
          "metadata": {}
        },
        {
          "output_type": "stream",
          "name": "stdout",
          "text": [
            "+---------+--------------------+--------------+---------+\n|ProductID|         ProductName|      Category|ListPrice|\n+---------+--------------------+--------------+---------+\n|      771|Mountain-100 Silv...|Mountain Bikes| 3059.991|\n|      772|Mountain-100 Silv...|Mountain Bikes|3399.9900|\n|      773|Mountain-100 Silv...|Mountain Bikes|3399.9900|\n|      774|Mountain-100 Silv...|Mountain Bikes|3399.9900|\n|      775|Mountain-100 Blac...|Mountain Bikes|3374.9900|\n|      776|Mountain-100 Blac...|Mountain Bikes|3374.9900|\n|      777|Mountain-100 Blac...|Mountain Bikes|3374.9900|\n|      778|Mountain-100 Blac...|Mountain Bikes|3374.9900|\n|      779|Mountain-200 Silv...|Mountain Bikes|2319.9900|\n|      780|Mountain-200 Silv...|Mountain Bikes|2319.9900|\n+---------+--------------------+--------------+---------+\nonly showing top 10 rows\n\n"
          ]
        }
      ],
      "execution_count": 3,
      "metadata": {
        "jupyter": {
          "source_hidden": false,
          "outputs_hidden": false
        },
        "nteract": {
          "transient": {
            "deleting": false
          }
        }
      }
    },
    {
      "cell_type": "code",
      "source": [
        " new_df = spark.read.format(\"delta\").load(delta_table_path)\r\n",
        " new_df.show(10)"
      ],
      "outputs": [
        {
          "output_type": "display_data",
          "data": {
            "application/vnd.livy.statement-meta+json": {
              "spark_pool": "spark5bdznl9",
              "session_id": "0",
              "statement_id": 5,
              "state": "finished",
              "livy_statement_state": "available",
              "queued_time": "2023-10-28T01:45:47.9295943Z",
              "session_start_time": null,
              "execution_start_time": "2023-10-28T01:45:48.0751763Z",
              "execution_finish_time": "2023-10-28T01:45:49.9780825Z",
              "spark_jobs": null,
              "parent_msg_id": "724d4ac2-fc57-442e-9299-32a61e49a919"
            },
            "text/plain": "StatementMeta(spark5bdznl9, 0, 5, Finished, Available)"
          },
          "metadata": {}
        },
        {
          "output_type": "stream",
          "name": "stdout",
          "text": [
            "+---------+--------------------+--------------+---------+\n|ProductID|         ProductName|      Category|ListPrice|\n+---------+--------------------+--------------+---------+\n|      771|Mountain-100 Silv...|Mountain Bikes| 3059.991|\n|      772|Mountain-100 Silv...|Mountain Bikes|3399.9900|\n|      773|Mountain-100 Silv...|Mountain Bikes|3399.9900|\n|      774|Mountain-100 Silv...|Mountain Bikes|3399.9900|\n|      775|Mountain-100 Blac...|Mountain Bikes|3374.9900|\n|      776|Mountain-100 Blac...|Mountain Bikes|3374.9900|\n|      777|Mountain-100 Blac...|Mountain Bikes|3374.9900|\n|      778|Mountain-100 Blac...|Mountain Bikes|3374.9900|\n|      779|Mountain-200 Silv...|Mountain Bikes|2319.9900|\n|      780|Mountain-200 Silv...|Mountain Bikes|2319.9900|\n+---------+--------------------+--------------+---------+\nonly showing top 10 rows\n\n"
          ]
        }
      ],
      "execution_count": 4,
      "metadata": {
        "jupyter": {
          "source_hidden": false,
          "outputs_hidden": false
        },
        "nteract": {
          "transient": {
            "deleting": false
          }
        }
      }
    },
    {
      "cell_type": "code",
      "source": [
        " new_df = spark.read.format(\"delta\").option(\"versionAsOf\", 0).load(delta_table_path)\r\n",
        " new_df.show(10)"
      ],
      "outputs": [
        {
          "output_type": "display_data",
          "data": {
            "application/vnd.livy.statement-meta+json": {
              "spark_pool": "spark5bdznl9",
              "session_id": "0",
              "statement_id": 6,
              "state": "finished",
              "livy_statement_state": "available",
              "queued_time": "2023-10-28T01:46:47.1004649Z",
              "session_start_time": null,
              "execution_start_time": "2023-10-28T01:46:47.244977Z",
              "execution_finish_time": "2023-10-28T01:46:50.4580076Z",
              "spark_jobs": null,
              "parent_msg_id": "1d2c8040-9475-4b81-8cfe-50e0539f7557"
            },
            "text/plain": "StatementMeta(spark5bdznl9, 0, 6, Finished, Available)"
          },
          "metadata": {}
        },
        {
          "output_type": "stream",
          "name": "stdout",
          "text": [
            "+---------+--------------------+--------------+---------+\n|ProductID|         ProductName|      Category|ListPrice|\n+---------+--------------------+--------------+---------+\n|      771|Mountain-100 Silv...|Mountain Bikes|3399.9900|\n|      772|Mountain-100 Silv...|Mountain Bikes|3399.9900|\n|      773|Mountain-100 Silv...|Mountain Bikes|3399.9900|\n|      774|Mountain-100 Silv...|Mountain Bikes|3399.9900|\n|      775|Mountain-100 Blac...|Mountain Bikes|3374.9900|\n|      776|Mountain-100 Blac...|Mountain Bikes|3374.9900|\n|      777|Mountain-100 Blac...|Mountain Bikes|3374.9900|\n|      778|Mountain-100 Blac...|Mountain Bikes|3374.9900|\n|      779|Mountain-200 Silv...|Mountain Bikes|2319.9900|\n|      780|Mountain-200 Silv...|Mountain Bikes|2319.9900|\n+---------+--------------------+--------------+---------+\nonly showing top 10 rows\n\n"
          ]
        }
      ],
      "execution_count": 5,
      "metadata": {
        "jupyter": {
          "source_hidden": false,
          "outputs_hidden": false
        },
        "nteract": {
          "transient": {
            "deleting": false
          }
        }
      }
    },
    {
      "cell_type": "code",
      "source": [
        " deltaTable.history(10).show(20, False, True)"
      ],
      "outputs": [
        {
          "output_type": "display_data",
          "data": {
            "application/vnd.livy.statement-meta+json": {
              "spark_pool": "spark5bdznl9",
              "session_id": "0",
              "statement_id": 7,
              "state": "finished",
              "livy_statement_state": "available",
              "queued_time": "2023-10-28T01:47:11.5826078Z",
              "session_start_time": null,
              "execution_start_time": "2023-10-28T01:47:11.7117293Z",
              "execution_finish_time": "2023-10-28T01:47:13.6306245Z",
              "spark_jobs": null,
              "parent_msg_id": "558bcb14-432d-4812-8562-91a29b193ea5"
            },
            "text/plain": "StatementMeta(spark5bdznl9, 0, 7, Finished, Available)"
          },
          "metadata": {}
        },
        {
          "output_type": "stream",
          "name": "stdout",
          "text": [
            "-RECORD 0------------------------------------------------------------------------------------------------------------------------------------------------------------------------\n version             | 1                                                                                                                                                         \n timestamp           | 2023-10-28 01:44:38                                                                                                                                       \n userId              | null                                                                                                                                                      \n userName            | null                                                                                                                                                      \n operation           | UPDATE                                                                                                                                                    \n operationParameters | {predicate -> (cast(ProductID#274 as int) = 771)}                                                                                                         \n job                 | null                                                                                                                                                      \n notebook            | null                                                                                                                                                      \n clusterId           | null                                                                                                                                                      \n readVersion         | 0                                                                                                                                                         \n isolationLevel      | null                                                                                                                                                      \n isBlindAppend       | false                                                                                                                                                     \n operationMetrics    | {numRemovedFiles -> 1, numCopiedRows -> 294, executionTimeMs -> 6622, scanTimeMs -> 5426, numAddedFiles -> 1, numUpdatedRows -> 1, rewriteTimeMs -> 1196} \n userMetadata        | null                                                                                                                                                      \n-RECORD 1------------------------------------------------------------------------------------------------------------------------------------------------------------------------\n version             | 0                                                                                                                                                         \n timestamp           | 2023-10-28 01:26:35                                                                                                                                       \n userId              | null                                                                                                                                                      \n userName            | null                                                                                                                                                      \n operation           | WRITE                                                                                                                                                     \n operationParameters | {mode -> ErrorIfExists, partitionBy -> []}                                                                                                                \n job                 | null                                                                                                                                                      \n notebook            | null                                                                                                                                                      \n clusterId           | null                                                                                                                                                      \n readVersion         | null                                                                                                                                                      \n isolationLevel      | null                                                                                                                                                      \n isBlindAppend       | true                                                                                                                                                      \n operationMetrics    | {numFiles -> 1, numOutputBytes -> 6046, numOutputRows -> 295}                                                                                             \n userMetadata        | null                                                                                                                                                      \n\n"
          ]
        }
      ],
      "execution_count": 6,
      "metadata": {
        "jupyter": {
          "source_hidden": false,
          "outputs_hidden": false
        },
        "nteract": {
          "transient": {
            "deleting": false
          }
        }
      }
    },
    {
      "cell_type": "code",
      "source": [
        " spark.sql(\"CREATE DATABASE AdventureWorks\")\r\n",
        " spark.sql(\"CREATE TABLE AdventureWorks.ProductsExternal USING DELTA LOCATION '{0}'\".format(delta_table_path))\r\n",
        " spark.sql(\"DESCRIBE EXTENDED AdventureWorks.ProductsExternal\").show(truncate=False)"
      ],
      "outputs": [
        {
          "output_type": "display_data",
          "data": {
            "application/vnd.livy.statement-meta+json": {
              "spark_pool": "spark5bdznl9",
              "session_id": "0",
              "statement_id": 8,
              "state": "finished",
              "livy_statement_state": "available",
              "queued_time": "2023-10-28T01:48:37.9970371Z",
              "session_start_time": null,
              "execution_start_time": "2023-10-28T01:48:38.1460386Z",
              "execution_finish_time": "2023-10-28T01:48:57.0472407Z",
              "spark_jobs": null,
              "parent_msg_id": "015b8d24-5596-4370-a2cb-a7a26d7fed84"
            },
            "text/plain": "StatementMeta(spark5bdznl9, 0, 8, Finished, Available)"
          },
          "metadata": {}
        },
        {
          "output_type": "stream",
          "name": "stdout",
          "text": [
            "+----------------------------+-----------------------------------------------------------------------+-------+\n|col_name                    |data_type                                                              |comment|\n+----------------------------+-----------------------------------------------------------------------+-------+\n|ProductID                   |string                                                                 |       |\n|ProductName                 |string                                                                 |       |\n|Category                    |string                                                                 |       |\n|ListPrice                   |string                                                                 |       |\n|                            |                                                                       |       |\n|# Partitioning              |                                                                       |       |\n|Not partitioned             |                                                                       |       |\n|                            |                                                                       |       |\n|# Detailed Table Information|                                                                       |       |\n|Name                        |adventureworks.productsexternal                                        |       |\n|Location                    |abfss://files@datalake5bdznl9.dfs.core.windows.net/delta/products-delta|       |\n|Provider                    |delta                                                                  |       |\n|Table Properties            |[Type=EXTERNAL,delta.minReaderVersion=1,delta.minWriterVersion=2]      |       |\n+----------------------------+-----------------------------------------------------------------------+-------+\n\n"
          ]
        }
      ],
      "execution_count": 7,
      "metadata": {
        "jupyter": {
          "source_hidden": false,
          "outputs_hidden": false
        },
        "nteract": {
          "transient": {
            "deleting": false
          }
        }
      }
    },
    {
      "cell_type": "code",
      "source": [
        " %%sql\r\n",
        "\r\n",
        " USE AdventureWorks;\r\n",
        "\r\n",
        " SELECT * FROM ProductsExternal;"
      ],
      "outputs": [
        {
          "output_type": "display_data",
          "data": {
            "application/vnd.livy.statement-meta+json": {
              "spark_pool": null,
              "session_id": "0",
              "statement_id": -1,
              "state": "finished",
              "livy_statement_state": "available",
              "queued_time": "2023-10-28T01:49:15.0093003Z",
              "session_start_time": null,
              "execution_start_time": "2023-10-28T01:49:18.608293Z",
              "execution_finish_time": "2023-10-28T01:49:18.6085016Z",
              "spark_jobs": null,
              "parent_msg_id": "cf86f55a-1bc3-4bba-ad27-da9753eb4253"
            },
            "text/plain": "StatementMeta(, 0, -1, Finished, Available)"
          },
          "metadata": {}
        },
        {
          "output_type": "execute_result",
          "execution_count": 8,
          "data": {
            "application/vnd.synapse.sparksql-result+json": {
              "schema": {
                "type": "struct",
                "fields": []
              },
              "data": []
            },
            "text/plain": "<Spark SQL result set with 0 rows and 0 fields>"
          },
          "metadata": {}
        },
        {
          "output_type": "execute_result",
          "execution_count": 8,
          "data": {
            "application/vnd.synapse.sparksql-result+json": {
              "schema": {
                "type": "struct",
                "fields": [
                  {
                    "name": "ProductID",
                    "type": "string",
                    "nullable": true,
                    "metadata": {}
                  },
                  {
                    "name": "ProductName",
                    "type": "string",
                    "nullable": true,
                    "metadata": {}
                  },
                  {
                    "name": "Category",
                    "type": "string",
                    "nullable": true,
                    "metadata": {}
                  },
                  {
                    "name": "ListPrice",
                    "type": "string",
                    "nullable": true,
                    "metadata": {}
                  }
                ]
              },
              "data": [
                [
                  "771",
                  "Mountain-100 Silver, 38",
                  "Mountain Bikes",
                  "3059.991"
                ],
                [
                  "772",
                  "Mountain-100 Silver, 42",
                  "Mountain Bikes",
                  "3399.9900"
                ],
                [
                  "773",
                  "Mountain-100 Silver, 44",
                  "Mountain Bikes",
                  "3399.9900"
                ],
                [
                  "774",
                  "Mountain-100 Silver, 48",
                  "Mountain Bikes",
                  "3399.9900"
                ],
                [
                  "775",
                  "Mountain-100 Black, 38",
                  "Mountain Bikes",
                  "3374.9900"
                ],
                [
                  "776",
                  "Mountain-100 Black, 42",
                  "Mountain Bikes",
                  "3374.9900"
                ],
                [
                  "777",
                  "Mountain-100 Black, 44",
                  "Mountain Bikes",
                  "3374.9900"
                ],
                [
                  "778",
                  "Mountain-100 Black, 48",
                  "Mountain Bikes",
                  "3374.9900"
                ],
                [
                  "779",
                  "Mountain-200 Silver, 38",
                  "Mountain Bikes",
                  "2319.9900"
                ],
                [
                  "780",
                  "Mountain-200 Silver, 42",
                  "Mountain Bikes",
                  "2319.9900"
                ],
                [
                  "781",
                  "Mountain-200 Silver, 46",
                  "Mountain Bikes",
                  "2319.9900"
                ],
                [
                  "782",
                  "Mountain-200 Black, 38",
                  "Mountain Bikes",
                  "2294.9900"
                ],
                [
                  "783",
                  "Mountain-200 Black, 42",
                  "Mountain Bikes",
                  "2294.9900"
                ],
                [
                  "784",
                  "Mountain-200 Black, 46",
                  "Mountain Bikes",
                  "2294.9900"
                ],
                [
                  "785",
                  "Mountain-300 Black, 38",
                  "Mountain Bikes",
                  "1079.9900"
                ],
                [
                  "786",
                  "Mountain-300 Black, 40",
                  "Mountain Bikes",
                  "1079.9900"
                ],
                [
                  "787",
                  "Mountain-300 Black, 44",
                  "Mountain Bikes",
                  "1079.9900"
                ],
                [
                  "788",
                  "Mountain-300 Black, 48",
                  "Mountain Bikes",
                  "1079.9900"
                ],
                [
                  "980",
                  "Mountain-400-W Silver, 38",
                  "Mountain Bikes",
                  "769.4900"
                ],
                [
                  "981",
                  "Mountain-400-W Silver, 40",
                  "Mountain Bikes",
                  "769.4900"
                ],
                [
                  "982",
                  "Mountain-400-W Silver, 42",
                  "Mountain Bikes",
                  "769.4900"
                ],
                [
                  "983",
                  "Mountain-400-W Silver, 46",
                  "Mountain Bikes",
                  "769.4900"
                ],
                [
                  "984",
                  "Mountain-500 Silver, 40",
                  "Mountain Bikes",
                  "564.9900"
                ],
                [
                  "985",
                  "Mountain-500 Silver, 42",
                  "Mountain Bikes",
                  "564.9900"
                ],
                [
                  "986",
                  "Mountain-500 Silver, 44",
                  "Mountain Bikes",
                  "564.9900"
                ],
                [
                  "987",
                  "Mountain-500 Silver, 48",
                  "Mountain Bikes",
                  "564.9900"
                ],
                [
                  "988",
                  "Mountain-500 Silver, 52",
                  "Mountain Bikes",
                  "564.9900"
                ],
                [
                  "989",
                  "Mountain-500 Black, 40",
                  "Mountain Bikes",
                  "539.9900"
                ],
                [
                  "990",
                  "Mountain-500 Black, 42",
                  "Mountain Bikes",
                  "539.9900"
                ],
                [
                  "991",
                  "Mountain-500 Black, 44",
                  "Mountain Bikes",
                  "539.9900"
                ],
                [
                  "992",
                  "Mountain-500 Black, 48",
                  "Mountain Bikes",
                  "539.9900"
                ],
                [
                  "993",
                  "Mountain-500 Black, 52",
                  "Mountain Bikes",
                  "539.9900"
                ],
                [
                  "973",
                  "Road-350-W Yellow, 40",
                  "Road Bikes",
                  "1700.9900"
                ],
                [
                  "974",
                  "Road-350-W Yellow, 42",
                  "Road Bikes",
                  "1700.9900"
                ],
                [
                  "975",
                  "Road-350-W Yellow, 44",
                  "Road Bikes",
                  "1700.9900"
                ],
                [
                  "976",
                  "Road-350-W Yellow, 48",
                  "Road Bikes",
                  "1700.9900"
                ],
                [
                  "977",
                  "Road-750 Black, 58",
                  "Road Bikes",
                  "539.9900"
                ],
                [
                  "997",
                  "Road-750 Black, 44",
                  "Road Bikes",
                  "539.9900"
                ],
                [
                  "998",
                  "Road-750 Black, 48",
                  "Road Bikes",
                  "539.9900"
                ],
                [
                  "999",
                  "Road-750 Black, 52",
                  "Road Bikes",
                  "539.9900"
                ],
                [
                  "789",
                  "Road-250 Red, 44",
                  "Road Bikes",
                  "2443.3500"
                ],
                [
                  "790",
                  "Road-250 Red, 48",
                  "Road Bikes",
                  "2443.3500"
                ],
                [
                  "791",
                  "Road-250 Red, 52",
                  "Road Bikes",
                  "2443.3500"
                ],
                [
                  "792",
                  "Road-250 Red, 58",
                  "Road Bikes",
                  "2443.3500"
                ],
                [
                  "793",
                  "Road-250 Black, 44",
                  "Road Bikes",
                  "2443.3500"
                ],
                [
                  "794",
                  "Road-250 Black, 48",
                  "Road Bikes",
                  "2443.3500"
                ],
                [
                  "795",
                  "Road-250 Black, 52",
                  "Road Bikes",
                  "2443.3500"
                ],
                [
                  "796",
                  "Road-250 Black, 58",
                  "Road Bikes",
                  "2443.3500"
                ],
                [
                  "797",
                  "Road-550-W Yellow, 38",
                  "Road Bikes",
                  "1120.4900"
                ],
                [
                  "798",
                  "Road-550-W Yellow, 40",
                  "Road Bikes",
                  "1120.4900"
                ],
                [
                  "799",
                  "Road-550-W Yellow, 42",
                  "Road Bikes",
                  "1120.4900"
                ],
                [
                  "800",
                  "Road-550-W Yellow, 44",
                  "Road Bikes",
                  "1120.4900"
                ],
                [
                  "801",
                  "Road-550-W Yellow, 48",
                  "Road Bikes",
                  "1120.4900"
                ],
                [
                  "749",
                  "Road-150 Red, 62",
                  "Road Bikes",
                  "3578.2700"
                ],
                [
                  "750",
                  "Road-150 Red, 44",
                  "Road Bikes",
                  "3578.2700"
                ],
                [
                  "751",
                  "Road-150 Red, 48",
                  "Road Bikes",
                  "3578.2700"
                ],
                [
                  "752",
                  "Road-150 Red, 52",
                  "Road Bikes",
                  "3578.2700"
                ],
                [
                  "753",
                  "Road-150 Red, 56",
                  "Road Bikes",
                  "3578.2700"
                ],
                [
                  "754",
                  "Road-450 Red, 58",
                  "Road Bikes",
                  "1457.9900"
                ],
                [
                  "755",
                  "Road-450 Red, 60",
                  "Road Bikes",
                  "1457.9900"
                ],
                [
                  "756",
                  "Road-450 Red, 44",
                  "Road Bikes",
                  "1457.9900"
                ],
                [
                  "757",
                  "Road-450 Red, 48",
                  "Road Bikes",
                  "1457.9900"
                ],
                [
                  "758",
                  "Road-450 Red, 52",
                  "Road Bikes",
                  "1457.9900"
                ],
                [
                  "759",
                  "Road-650 Red, 58",
                  "Road Bikes",
                  "782.9900"
                ],
                [
                  "760",
                  "Road-650 Red, 60",
                  "Road Bikes",
                  "782.9900"
                ],
                [
                  "761",
                  "Road-650 Red, 62",
                  "Road Bikes",
                  "782.9900"
                ],
                [
                  "762",
                  "Road-650 Red, 44",
                  "Road Bikes",
                  "782.9900"
                ],
                [
                  "763",
                  "Road-650 Red, 48",
                  "Road Bikes",
                  "782.9900"
                ],
                [
                  "764",
                  "Road-650 Red, 52",
                  "Road Bikes",
                  "782.9900"
                ],
                [
                  "765",
                  "Road-650 Black, 58",
                  "Road Bikes",
                  "782.9900"
                ],
                [
                  "766",
                  "Road-650 Black, 60",
                  "Road Bikes",
                  "782.9900"
                ],
                [
                  "767",
                  "Road-650 Black, 62",
                  "Road Bikes",
                  "782.9900"
                ],
                [
                  "768",
                  "Road-650 Black, 44",
                  "Road Bikes",
                  "782.9900"
                ],
                [
                  "769",
                  "Road-650 Black, 48",
                  "Road Bikes",
                  "782.9900"
                ],
                [
                  "770",
                  "Road-650 Black, 52",
                  "Road Bikes",
                  "782.9900"
                ],
                [
                  "978",
                  "Touring-3000 Blue, 44",
                  "Touring Bikes",
                  "742.3500"
                ],
                [
                  "979",
                  "Touring-3000 Blue, 50",
                  "Touring Bikes",
                  "742.3500"
                ],
                [
                  "953",
                  "Touring-2000 Blue, 60",
                  "Touring Bikes",
                  "1214.8500"
                ],
                [
                  "954",
                  "Touring-1000 Yellow, 46",
                  "Touring Bikes",
                  "2384.0700"
                ],
                [
                  "955",
                  "Touring-1000 Yellow, 50",
                  "Touring Bikes",
                  "2384.0700"
                ],
                [
                  "956",
                  "Touring-1000 Yellow, 54",
                  "Touring Bikes",
                  "2384.0700"
                ],
                [
                  "957",
                  "Touring-1000 Yellow, 60",
                  "Touring Bikes",
                  "2384.0700"
                ],
                [
                  "958",
                  "Touring-3000 Blue, 54",
                  "Touring Bikes",
                  "742.3500"
                ],
                [
                  "959",
                  "Touring-3000 Blue, 58",
                  "Touring Bikes",
                  "742.3500"
                ],
                [
                  "960",
                  "Touring-3000 Blue, 62",
                  "Touring Bikes",
                  "742.3500"
                ],
                [
                  "961",
                  "Touring-3000 Yellow, 44",
                  "Touring Bikes",
                  "742.3500"
                ],
                [
                  "962",
                  "Touring-3000 Yellow, 50",
                  "Touring Bikes",
                  "742.3500"
                ],
                [
                  "963",
                  "Touring-3000 Yellow, 54",
                  "Touring Bikes",
                  "742.3500"
                ],
                [
                  "964",
                  "Touring-3000 Yellow, 58",
                  "Touring Bikes",
                  "742.3500"
                ],
                [
                  "965",
                  "Touring-3000 Yellow, 62",
                  "Touring Bikes",
                  "742.3500"
                ],
                [
                  "966",
                  "Touring-1000 Blue, 46",
                  "Touring Bikes",
                  "2384.0700"
                ],
                [
                  "967",
                  "Touring-1000 Blue, 50",
                  "Touring Bikes",
                  "2384.0700"
                ],
                [
                  "968",
                  "Touring-1000 Blue, 54",
                  "Touring Bikes",
                  "2384.0700"
                ],
                [
                  "969",
                  "Touring-1000 Blue, 60",
                  "Touring Bikes",
                  "2384.0700"
                ],
                [
                  "970",
                  "Touring-2000 Blue, 46",
                  "Touring Bikes",
                  "1214.8500"
                ],
                [
                  "971",
                  "Touring-2000 Blue, 50",
                  "Touring Bikes",
                  "1214.8500"
                ],
                [
                  "972",
                  "Touring-2000 Blue, 54",
                  "Touring Bikes",
                  "1214.8500"
                ],
                [
                  "946",
                  "LL Touring Handlebars",
                  "Handlebars",
                  "46.0900"
                ],
                [
                  "947",
                  "HL Touring Handlebars",
                  "Handlebars",
                  "91.5700"
                ],
                [
                  "808",
                  "LL Mountain Handlebars",
                  "Handlebars",
                  "44.5400"
                ],
                [
                  "809",
                  "ML Mountain Handlebars",
                  "Handlebars",
                  "61.9200"
                ],
                [
                  "810",
                  "HL Mountain Handlebars",
                  "Handlebars",
                  "120.2700"
                ],
                [
                  "811",
                  "LL Road Handlebars",
                  "Handlebars",
                  "44.5400"
                ],
                [
                  "812",
                  "ML Road Handlebars",
                  "Handlebars",
                  "61.9200"
                ],
                [
                  "813",
                  "HL Road Handlebars",
                  "Handlebars",
                  "120.2700"
                ],
                [
                  "994",
                  "LL Bottom Bracket",
                  "Bottom Brackets",
                  "53.9900"
                ],
                [
                  "995",
                  "ML Bottom Bracket",
                  "Bottom Brackets",
                  "101.2400"
                ],
                [
                  "996",
                  "HL Bottom Bracket",
                  "Bottom Brackets",
                  "121.4900"
                ],
                [
                  "948",
                  "Front Brakes",
                  "Brakes",
                  "106.5000"
                ],
                [
                  "907",
                  "Rear Brakes",
                  "Brakes",
                  "106.5000"
                ],
                [
                  "952",
                  "Chain",
                  "Chains",
                  "20.2400"
                ],
                [
                  "949",
                  "LL Crankset",
                  "Cranksets",
                  "175.4900"
                ],
                [
                  "950",
                  "ML Crankset",
                  "Cranksets",
                  "256.4900"
                ],
                [
                  "951",
                  "HL Crankset",
                  "Cranksets",
                  "404.9900"
                ],
                [
                  "945",
                  "Front Derailleur",
                  "Derailleurs",
                  "91.4900"
                ],
                [
                  "894",
                  "Rear Derailleur",
                  "Derailleurs",
                  "121.4600"
                ],
                [
                  "802",
                  "LL Fork",
                  "Forks",
                  "148.2200"
                ],
                [
                  "803",
                  "ML Fork",
                  "Forks",
                  "175.4900"
                ],
                [
                  "804",
                  "HL Fork",
                  "Forks",
                  "229.4900"
                ],
                [
                  "805",
                  "LL Headset",
                  "Headsets",
                  "34.2000"
                ],
                [
                  "806",
                  "ML Headset",
                  "Headsets",
                  "102.2900"
                ],
                [
                  "807",
                  "HL Headset",
                  "Headsets",
                  "124.7300"
                ],
                [
                  "739",
                  "HL Mountain Frame - Silver, 42",
                  "Mountain Frames",
                  "1364.5000"
                ],
                [
                  "740",
                  "HL Mountain Frame - Silver, 44",
                  "Mountain Frames",
                  "1364.5000"
                ],
                [
                  "741",
                  "HL Mountain Frame - Silver, 48",
                  "Mountain Frames",
                  "1364.5000"
                ],
                [
                  "742",
                  "HL Mountain Frame - Silver, 46",
                  "Mountain Frames",
                  "1364.5000"
                ],
                [
                  "743",
                  "HL Mountain Frame - Black, 42",
                  "Mountain Frames",
                  "1349.6000"
                ],
                [
                  "744",
                  "HL Mountain Frame - Black, 44",
                  "Mountain Frames",
                  "1349.6000"
                ],
                [
                  "745",
                  "HL Mountain Frame - Black, 48",
                  "Mountain Frames",
                  "1349.6000"
                ],
                [
                  "746",
                  "HL Mountain Frame - Black, 46",
                  "Mountain Frames",
                  "1349.6000"
                ],
                [
                  "747",
                  "HL Mountain Frame - Black, 38",
                  "Mountain Frames",
                  "1349.6000"
                ],
                [
                  "748",
                  "HL Mountain Frame - Silver, 38",
                  "Mountain Frames",
                  "1364.5000"
                ],
                [
                  "814",
                  "ML Mountain Frame - Black, 38",
                  "Mountain Frames",
                  "348.7600"
                ],
                [
                  "830",
                  "ML Mountain Frame - Black, 40",
                  "Mountain Frames",
                  "348.7600"
                ],
                [
                  "831",
                  "ML Mountain Frame - Black, 44",
                  "Mountain Frames",
                  "348.7600"
                ],
                [
                  "832",
                  "ML Mountain Frame - Black, 48",
                  "Mountain Frames",
                  "348.7600"
                ],
                [
                  "924",
                  "LL Mountain Frame - Black, 42",
                  "Mountain Frames",
                  "249.7900"
                ],
                [
                  "925",
                  "LL Mountain Frame - Black, 44",
                  "Mountain Frames",
                  "249.7900"
                ],
                [
                  "926",
                  "LL Mountain Frame - Black, 48",
                  "Mountain Frames",
                  "249.7900"
                ],
                [
                  "927",
                  "LL Mountain Frame - Black, 52",
                  "Mountain Frames",
                  "249.7900"
                ],
                [
                  "917",
                  "LL Mountain Frame - Silver, 42",
                  "Mountain Frames",
                  "264.0500"
                ],
                [
                  "918",
                  "LL Mountain Frame - Silver, 44",
                  "Mountain Frames",
                  "264.0500"
                ],
                [
                  "919",
                  "LL Mountain Frame - Silver, 48",
                  "Mountain Frames",
                  "264.0500"
                ],
                [
                  "920",
                  "LL Mountain Frame - Silver, 52",
                  "Mountain Frames",
                  "264.0500"
                ],
                [
                  "904",
                  "ML Mountain Frame-W - Silver, 40",
                  "Mountain Frames",
                  "364.0900"
                ],
                [
                  "905",
                  "ML Mountain Frame-W - Silver, 42",
                  "Mountain Frames",
                  "364.0900"
                ],
                [
                  "906",
                  "ML Mountain Frame-W - Silver, 46",
                  "Mountain Frames",
                  "364.0900"
                ],
                [
                  "942",
                  "ML Mountain Frame-W - Silver, 38",
                  "Mountain Frames",
                  "364.0900"
                ],
                [
                  "943",
                  "LL Mountain Frame - Black, 40",
                  "Mountain Frames",
                  "249.7900"
                ],
                [
                  "944",
                  "LL Mountain Frame - Silver, 40",
                  "Mountain Frames",
                  "264.0500"
                ],
                [
                  "935",
                  "LL Mountain Pedal",
                  "Pedals",
                  "40.4900"
                ],
                [
                  "936",
                  "ML Mountain Pedal",
                  "Pedals",
                  "62.0900"
                ],
                [
                  "937",
                  "HL Mountain Pedal",
                  "Pedals",
                  "80.9900"
                ],
                [
                  "938",
                  "LL Road Pedal",
                  "Pedals",
                  "40.4900"
                ],
                [
                  "939",
                  "ML Road Pedal",
                  "Pedals",
                  "62.0900"
                ],
                [
                  "940",
                  "HL Road Pedal",
                  "Pedals",
                  "80.9900"
                ],
                [
                  "941",
                  "Touring Pedal",
                  "Pedals",
                  "80.9900"
                ],
                [
                  "833",
                  "ML Road Frame-W - Yellow, 40",
                  "Road Frames",
                  "594.8300"
                ],
                [
                  "834",
                  "ML Road Frame-W - Yellow, 42",
                  "Road Frames",
                  "594.8300"
                ],
                [
                  "835",
                  "ML Road Frame-W - Yellow, 44",
                  "Road Frames",
                  "594.8300"
                ],
                [
                  "836",
                  "ML Road Frame-W - Yellow, 48",
                  "Road Frames",
                  "594.8300"
                ],
                [
                  "837",
                  "HL Road Frame - Black, 62",
                  "Road Frames",
                  "1431.5000"
                ],
                [
                  "838",
                  "HL Road Frame - Black, 44",
                  "Road Frames",
                  "1431.5000"
                ],
                [
                  "839",
                  "HL Road Frame - Black, 48",
                  "Road Frames",
                  "1431.5000"
                ],
                [
                  "840",
                  "HL Road Frame - Black, 52",
                  "Road Frames",
                  "1431.5000"
                ],
                [
                  "822",
                  "ML Road Frame-W - Yellow, 38",
                  "Road Frames",
                  "594.8300"
                ],
                [
                  "680",
                  "HL Road Frame - Black, 58",
                  "Road Frames",
                  "1431.5000"
                ],
                [
                  "706",
                  "HL Road Frame - Red, 58",
                  "Road Frames",
                  "1431.5000"
                ],
                [
                  "717",
                  "HL Road Frame - Red, 62",
                  "Road Frames",
                  "1431.5000"
                ],
                [
                  "718",
                  "HL Road Frame - Red, 44",
                  "Road Frames",
                  "1431.5000"
                ],
                [
                  "719",
                  "HL Road Frame - Red, 48",
                  "Road Frames",
                  "1431.5000"
                ],
                [
                  "720",
                  "HL Road Frame - Red, 52",
                  "Road Frames",
                  "1431.5000"
                ],
                [
                  "721",
                  "HL Road Frame - Red, 56",
                  "Road Frames",
                  "1431.5000"
                ],
                [
                  "722",
                  "LL Road Frame - Black, 58",
                  "Road Frames",
                  "337.2200"
                ],
                [
                  "723",
                  "LL Road Frame - Black, 60",
                  "Road Frames",
                  "337.2200"
                ],
                [
                  "724",
                  "LL Road Frame - Black, 62",
                  "Road Frames",
                  "337.2200"
                ],
                [
                  "725",
                  "LL Road Frame - Red, 44",
                  "Road Frames",
                  "337.2200"
                ],
                [
                  "726",
                  "LL Road Frame - Red, 48",
                  "Road Frames",
                  "337.2200"
                ],
                [
                  "727",
                  "LL Road Frame - Red, 52",
                  "Road Frames",
                  "337.2200"
                ],
                [
                  "728",
                  "LL Road Frame - Red, 58",
                  "Road Frames",
                  "337.2200"
                ],
                [
                  "729",
                  "LL Road Frame - Red, 60",
                  "Road Frames",
                  "337.2200"
                ],
                [
                  "730",
                  "LL Road Frame - Red, 62",
                  "Road Frames",
                  "337.2200"
                ],
                [
                  "731",
                  "ML Road Frame - Red, 44",
                  "Road Frames",
                  "594.8300"
                ],
                [
                  "732",
                  "ML Road Frame - Red, 48",
                  "Road Frames",
                  "594.8300"
                ],
                [
                  "733",
                  "ML Road Frame - Red, 52",
                  "Road Frames",
                  "594.8300"
                ],
                [
                  "734",
                  "ML Road Frame - Red, 58",
                  "Road Frames",
                  "594.8300"
                ],
                [
                  "735",
                  "ML Road Frame - Red, 60",
                  "Road Frames",
                  "594.8300"
                ],
                [
                  "736",
                  "LL Road Frame - Black, 44",
                  "Road Frames",
                  "337.2200"
                ],
                [
                  "737",
                  "LL Road Frame - Black, 48",
                  "Road Frames",
                  "337.2200"
                ],
                [
                  "738",
                  "LL Road Frame - Black, 52",
                  "Road Frames",
                  "337.2200"
                ],
                [
                  "908",
                  "LL Mountain Seat/Saddle",
                  "Saddles",
                  "27.1200"
                ],
                [
                  "909",
                  "ML Mountain Seat/Saddle",
                  "Saddles",
                  "39.1400"
                ],
                [
                  "910",
                  "HL Mountain Seat/Saddle",
                  "Saddles",
                  "52.6400"
                ],
                [
                  "911",
                  "LL Road Seat/Saddle",
                  "Saddles",
                  "27.1200"
                ],
                [
                  "912",
                  "ML Road Seat/Saddle",
                  "Saddles",
                  "39.1400"
                ],
                [
                  "913",
                  "HL Road Seat/Saddle",
                  "Saddles",
                  "52.6400"
                ],
                [
                  "914",
                  "LL Touring Seat/Saddle",
                  "Saddles",
                  "27.1200"
                ],
                [
                  "915",
                  "ML Touring Seat/Saddle",
                  "Saddles",
                  "39.1400"
                ],
                [
                  "916",
                  "HL Touring Seat/Saddle",
                  "Saddles",
                  "52.6400"
                ],
                [
                  "895",
                  "LL Touring Frame - Blue, 50",
                  "Touring Frames",
                  "333.4200"
                ],
                [
                  "896",
                  "LL Touring Frame - Blue, 54",
                  "Touring Frames",
                  "333.4200"
                ],
                [
                  "897",
                  "LL Touring Frame - Blue, 58",
                  "Touring Frames",
                  "333.4200"
                ],
                [
                  "898",
                  "LL Touring Frame - Blue, 62",
                  "Touring Frames",
                  "333.4200"
                ],
                [
                  "899",
                  "LL Touring Frame - Yellow, 44",
                  "Touring Frames",
                  "333.4200"
                ],
                [
                  "900",
                  "LL Touring Frame - Yellow, 50",
                  "Touring Frames",
                  "333.4200"
                ],
                [
                  "901",
                  "LL Touring Frame - Yellow, 54",
                  "Touring Frames",
                  "333.4200"
                ],
                [
                  "902",
                  "LL Touring Frame - Yellow, 58",
                  "Touring Frames",
                  "333.4200"
                ],
                [
                  "903",
                  "LL Touring Frame - Blue, 44",
                  "Touring Frames",
                  "333.4200"
                ],
                [
                  "885",
                  "HL Touring Frame - Yellow, 60",
                  "Touring Frames",
                  "1003.9100"
                ],
                [
                  "886",
                  "LL Touring Frame - Yellow, 62",
                  "Touring Frames",
                  "333.4200"
                ],
                [
                  "887",
                  "HL Touring Frame - Yellow, 46",
                  "Touring Frames",
                  "1003.9100"
                ],
                [
                  "888",
                  "HL Touring Frame - Yellow, 50",
                  "Touring Frames",
                  "1003.9100"
                ],
                [
                  "889",
                  "HL Touring Frame - Yellow, 54",
                  "Touring Frames",
                  "1003.9100"
                ],
                [
                  "890",
                  "HL Touring Frame - Blue, 46",
                  "Touring Frames",
                  "1003.9100"
                ],
                [
                  "891",
                  "HL Touring Frame - Blue, 50",
                  "Touring Frames",
                  "1003.9100"
                ],
                [
                  "892",
                  "HL Touring Frame - Blue, 54",
                  "Touring Frames",
                  "1003.9100"
                ],
                [
                  "893",
                  "HL Touring Frame - Blue, 60",
                  "Touring Frames",
                  "1003.9100"
                ],
                [
                  "823",
                  "LL Mountain Rear Wheel",
                  "Wheels",
                  "87.7450"
                ],
                [
                  "824",
                  "ML Mountain Rear Wheel",
                  "Wheels",
                  "236.0250"
                ],
                [
                  "825",
                  "HL Mountain Rear Wheel",
                  "Wheels",
                  "327.2150"
                ],
                [
                  "826",
                  "LL Road Rear Wheel",
                  "Wheels",
                  "112.5650"
                ],
                [
                  "827",
                  "ML Road Rear Wheel",
                  "Wheels",
                  "275.3850"
                ],
                [
                  "828",
                  "HL Road Rear Wheel",
                  "Wheels",
                  "357.0600"
                ],
                [
                  "829",
                  "Touring Rear Wheel",
                  "Wheels",
                  "245.0100"
                ],
                [
                  "815",
                  "LL Mountain Front Wheel",
                  "Wheels",
                  "60.7450"
                ],
                [
                  "816",
                  "ML Mountain Front Wheel",
                  "Wheels",
                  "209.0250"
                ],
                [
                  "817",
                  "HL Mountain Front Wheel",
                  "Wheels",
                  "300.2150"
                ],
                [
                  "818",
                  "LL Road Front Wheel",
                  "Wheels",
                  "85.5650"
                ],
                [
                  "819",
                  "ML Road Front Wheel",
                  "Wheels",
                  "248.3850"
                ],
                [
                  "820",
                  "HL Road Front Wheel",
                  "Wheels",
                  "330.0600"
                ],
                [
                  "821",
                  "Touring Front Wheel",
                  "Wheels",
                  "218.0100"
                ],
                [
                  "855",
                  "Men's Bib-Shorts, S",
                  "Bib-Shorts",
                  "89.9900"
                ],
                [
                  "856",
                  "Men's Bib-Shorts, M",
                  "Bib-Shorts",
                  "89.9900"
                ],
                [
                  "857",
                  "Men's Bib-Shorts, L",
                  "Bib-Shorts",
                  "89.9900"
                ],
                [
                  "712",
                  "AWC Logo Cap",
                  "Caps",
                  "8.9900"
                ],
                [
                  "858",
                  "Half-Finger Gloves, S",
                  "Gloves",
                  "24.4900"
                ],
                [
                  "859",
                  "Half-Finger Gloves, M",
                  "Gloves",
                  "24.4900"
                ],
                [
                  "860",
                  "Half-Finger Gloves, L",
                  "Gloves",
                  "24.4900"
                ],
                [
                  "861",
                  "Full-Finger Gloves, S",
                  "Gloves",
                  "37.9900"
                ],
                [
                  "862",
                  "Full-Finger Gloves, M",
                  "Gloves",
                  "37.9900"
                ],
                [
                  "863",
                  "Full-Finger Gloves, L",
                  "Gloves",
                  "37.9900"
                ],
                [
                  "713",
                  "Long-Sleeve Logo Jersey, S",
                  "Jerseys",
                  "49.9900"
                ],
                [
                  "714",
                  "Long-Sleeve Logo Jersey, M",
                  "Jerseys",
                  "49.9900"
                ],
                [
                  "715",
                  "Long-Sleeve Logo Jersey, L",
                  "Jerseys",
                  "49.9900"
                ],
                [
                  "716",
                  "Long-Sleeve Logo Jersey, XL",
                  "Jerseys",
                  "49.9900"
                ],
                [
                  "881",
                  "Short-Sleeve Classic Jersey, S",
                  "Jerseys",
                  "53.9900"
                ],
                [
                  "882",
                  "Short-Sleeve Classic Jersey, M",
                  "Jerseys",
                  "53.9900"
                ],
                [
                  "883",
                  "Short-Sleeve Classic Jersey, L",
                  "Jerseys",
                  "53.9900"
                ],
                [
                  "884",
                  "Short-Sleeve Classic Jersey, XL",
                  "Jerseys",
                  "53.9900"
                ],
                [
                  "867",
                  "Women's Mountain Shorts, S",
                  "Shorts",
                  "69.9900"
                ],
                [
                  "868",
                  "Women's Mountain Shorts, M",
                  "Shorts",
                  "69.9900"
                ],
                [
                  "869",
                  "Women's Mountain Shorts, L",
                  "Shorts",
                  "69.9900"
                ],
                [
                  "841",
                  "Men's Sports Shorts, S",
                  "Shorts",
                  "59.9900"
                ],
                [
                  "849",
                  "Men's Sports Shorts, M",
                  "Shorts",
                  "59.9900"
                ],
                [
                  "850",
                  "Men's Sports Shorts, L",
                  "Shorts",
                  "59.9900"
                ],
                [
                  "851",
                  "Men's Sports Shorts, XL",
                  "Shorts",
                  "59.9900"
                ],
                [
                  "709",
                  "Mountain Bike Socks, M",
                  "Socks",
                  "9.5000"
                ],
                [
                  "710",
                  "Mountain Bike Socks, L",
                  "Socks",
                  "9.5000"
                ],
                [
                  "874",
                  "Racing Socks, M",
                  "Socks",
                  "8.9900"
                ],
                [
                  "875",
                  "Racing Socks, L",
                  "Socks",
                  "8.9900"
                ],
                [
                  "852",
                  "Women's Tights, S",
                  "Tights",
                  "74.9900"
                ],
                [
                  "853",
                  "Women's Tights, M",
                  "Tights",
                  "74.9900"
                ],
                [
                  "854",
                  "Women's Tights, L",
                  "Tights",
                  "74.9900"
                ],
                [
                  "864",
                  "Classic Vest, S",
                  "Vests",
                  "63.5000"
                ],
                [
                  "865",
                  "Classic Vest, M",
                  "Vests",
                  "63.5000"
                ],
                [
                  "866",
                  "Classic Vest, L",
                  "Vests",
                  "63.5000"
                ],
                [
                  "876",
                  "Hitch Rack - 4-Bike",
                  "Bike Racks",
                  "120.0000"
                ],
                [
                  "879",
                  "All-Purpose Bike Stand",
                  "Bike Stands",
                  "159.0000"
                ],
                [
                  "870",
                  "Water Bottle - 30 oz.",
                  "Bottles and Cages",
                  "4.9900"
                ],
                [
                  "871",
                  "Mountain Bottle Cage",
                  "Bottles and Cages",
                  "9.9900"
                ],
                [
                  "872",
                  "Road Bottle Cage",
                  "Bottles and Cages",
                  "8.9900"
                ],
                [
                  "877",
                  "Bike Wash - Dissolver",
                  "Cleaners",
                  "7.9500"
                ],
                [
                  "878",
                  "Fender Set - Mountain",
                  "Fenders",
                  "21.9800"
                ],
                [
                  "711",
                  "Sport-100 Helmet, Blue",
                  "Helmets",
                  "34.9900"
                ],
                [
                  "707",
                  "Sport-100 Helmet, Red",
                  "Helmets",
                  "34.9900"
                ],
                [
                  "708",
                  "Sport-100 Helmet, Black",
                  "Helmets",
                  "34.9900"
                ],
                [
                  "880",
                  "Hydration Pack - 70 oz.",
                  "Hydration Packs",
                  "54.9900"
                ],
                [
                  "846",
                  "Taillights - Battery-Powered",
                  "Lights",
                  "13.9900"
                ],
                [
                  "847",
                  "Headlights - Dual-Beam",
                  "Lights",
                  "34.9900"
                ],
                [
                  "848",
                  "Headlights - Weatherproof",
                  "Lights",
                  "44.9900"
                ],
                [
                  "843",
                  "Cable Lock",
                  "Locks",
                  "25.0000"
                ],
                [
                  "842",
                  "Touring-Panniers, Large",
                  "Panniers",
                  "125.0000"
                ],
                [
                  "844",
                  "Minipump",
                  "Pumps",
                  "19.9900"
                ],
                [
                  "845",
                  "Mountain Pump",
                  "Pumps",
                  "24.9900"
                ],
                [
                  "873",
                  "Patch Kit/8 Patches",
                  "Tires and Tubes",
                  "2.2900"
                ],
                [
                  "921",
                  "Mountain Tire Tube",
                  "Tires and Tubes",
                  "4.9900"
                ],
                [
                  "922",
                  "Road Tire Tube",
                  "Tires and Tubes",
                  "3.9900"
                ],
                [
                  "923",
                  "Touring Tire Tube",
                  "Tires and Tubes",
                  "4.9900"
                ],
                [
                  "928",
                  "LL Mountain Tire",
                  "Tires and Tubes",
                  "24.9900"
                ],
                [
                  "929",
                  "ML Mountain Tire",
                  "Tires and Tubes",
                  "29.9900"
                ],
                [
                  "930",
                  "HL Mountain Tire",
                  "Tires and Tubes",
                  "35.0000"
                ],
                [
                  "931",
                  "LL Road Tire",
                  "Tires and Tubes",
                  "21.4900"
                ],
                [
                  "932",
                  "ML Road Tire",
                  "Tires and Tubes",
                  "24.9900"
                ],
                [
                  "933",
                  "HL Road Tire",
                  "Tires and Tubes",
                  "32.6000"
                ],
                [
                  "934",
                  "Touring Tire",
                  "Tires and Tubes",
                  "28.9900"
                ]
              ]
            },
            "text/plain": "<Spark SQL result set with 295 rows and 4 fields>"
          },
          "metadata": {}
        }
      ],
      "execution_count": 8,
      "metadata": {
        "jupyter": {
          "source_hidden": false,
          "outputs_hidden": false
        },
        "nteract": {
          "transient": {
            "deleting": false
          }
        },
        "microsoft": {
          "language": "sparksql"
        },
        "collapsed": false
      }
    },
    {
      "cell_type": "code",
      "source": [
        " df.write.format(\"delta\").saveAsTable(\"AdventureWorks.ProductsManaged\")\r\n",
        " spark.sql(\"DESCRIBE EXTENDED AdventureWorks.ProductsManaged\").show(truncate=False)"
      ],
      "outputs": [
        {
          "output_type": "display_data",
          "data": {
            "application/vnd.livy.statement-meta+json": {
              "spark_pool": "spark5bdznl9",
              "session_id": "0",
              "statement_id": 11,
              "state": "finished",
              "livy_statement_state": "available",
              "queued_time": "2023-10-28T01:52:13.5655674Z",
              "session_start_time": null,
              "execution_start_time": "2023-10-28T01:52:13.6966118Z",
              "execution_finish_time": "2023-10-28T01:52:17.7502927Z",
              "spark_jobs": null,
              "parent_msg_id": "7fdfcaad-1e95-48fa-848b-ba229026b011"
            },
            "text/plain": "StatementMeta(spark5bdznl9, 0, 11, Finished, Available)"
          },
          "metadata": {}
        },
        {
          "output_type": "stream",
          "name": "stdout",
          "text": [
            "+----------------------------+--------------------------------------------------------------------------------------------------------------------------------+-------+\n|col_name                    |data_type                                                                                                                       |comment|\n+----------------------------+--------------------------------------------------------------------------------------------------------------------------------+-------+\n|ProductID                   |string                                                                                                                          |       |\n|ProductName                 |string                                                                                                                          |       |\n|Category                    |string                                                                                                                          |       |\n|ListPrice                   |string                                                                                                                          |       |\n|                            |                                                                                                                                |       |\n|# Partitioning              |                                                                                                                                |       |\n|Not partitioned             |                                                                                                                                |       |\n|                            |                                                                                                                                |       |\n|# Detailed Table Information|                                                                                                                                |       |\n|Name                        |adventureworks.productsmanaged                                                                                                  |       |\n|Location                    |abfss://files@datalake5bdznl9.dfs.core.windows.net/synapse/workspaces/synapse5bdznl9/warehouse/adventureworks.db/productsmanaged|       |\n|Provider                    |delta                                                                                                                           |       |\n|Table Properties            |[Type=MANAGED,delta.minReaderVersion=1,delta.minWriterVersion=2]                                                                |       |\n+----------------------------+--------------------------------------------------------------------------------------------------------------------------------+-------+\n\n"
          ]
        }
      ],
      "execution_count": 9,
      "metadata": {
        "jupyter": {
          "source_hidden": false,
          "outputs_hidden": false
        },
        "nteract": {
          "transient": {
            "deleting": false
          }
        }
      }
    },
    {
      "cell_type": "code",
      "source": [
        " %%sql\r\n",
        "\r\n",
        " USE AdventureWorks;\r\n",
        "\r\n",
        " SELECT * FROM ProductsManaged;"
      ],
      "outputs": [
        {
          "output_type": "display_data",
          "data": {
            "application/vnd.livy.statement-meta+json": {
              "spark_pool": null,
              "session_id": "0",
              "statement_id": -1,
              "state": "finished",
              "livy_statement_state": "available",
              "queued_time": "2023-10-28T01:53:02.6023726Z",
              "session_start_time": null,
              "execution_start_time": "2023-10-28T01:53:05.9318886Z",
              "execution_finish_time": "2023-10-28T01:53:05.932081Z",
              "spark_jobs": null,
              "parent_msg_id": "50112164-dd8e-4d27-93b2-47d45cc7af7c"
            },
            "text/plain": "StatementMeta(, 0, -1, Finished, Available)"
          },
          "metadata": {}
        },
        {
          "output_type": "execute_result",
          "execution_count": 10,
          "data": {
            "application/vnd.synapse.sparksql-result+json": {
              "schema": {
                "type": "struct",
                "fields": []
              },
              "data": []
            },
            "text/plain": "<Spark SQL result set with 0 rows and 0 fields>"
          },
          "metadata": {}
        },
        {
          "output_type": "execute_result",
          "execution_count": 10,
          "data": {
            "application/vnd.synapse.sparksql-result+json": {
              "schema": {
                "type": "struct",
                "fields": [
                  {
                    "name": "ProductID",
                    "type": "string",
                    "nullable": true,
                    "metadata": {}
                  },
                  {
                    "name": "ProductName",
                    "type": "string",
                    "nullable": true,
                    "metadata": {}
                  },
                  {
                    "name": "Category",
                    "type": "string",
                    "nullable": true,
                    "metadata": {}
                  },
                  {
                    "name": "ListPrice",
                    "type": "string",
                    "nullable": true,
                    "metadata": {}
                  }
                ]
              },
              "data": [
                [
                  "771",
                  "Mountain-100 Silver, 38",
                  "Mountain Bikes",
                  "3399.9900"
                ],
                [
                  "772",
                  "Mountain-100 Silver, 42",
                  "Mountain Bikes",
                  "3399.9900"
                ],
                [
                  "773",
                  "Mountain-100 Silver, 44",
                  "Mountain Bikes",
                  "3399.9900"
                ],
                [
                  "774",
                  "Mountain-100 Silver, 48",
                  "Mountain Bikes",
                  "3399.9900"
                ],
                [
                  "775",
                  "Mountain-100 Black, 38",
                  "Mountain Bikes",
                  "3374.9900"
                ],
                [
                  "776",
                  "Mountain-100 Black, 42",
                  "Mountain Bikes",
                  "3374.9900"
                ],
                [
                  "777",
                  "Mountain-100 Black, 44",
                  "Mountain Bikes",
                  "3374.9900"
                ],
                [
                  "778",
                  "Mountain-100 Black, 48",
                  "Mountain Bikes",
                  "3374.9900"
                ],
                [
                  "779",
                  "Mountain-200 Silver, 38",
                  "Mountain Bikes",
                  "2319.9900"
                ],
                [
                  "780",
                  "Mountain-200 Silver, 42",
                  "Mountain Bikes",
                  "2319.9900"
                ],
                [
                  "781",
                  "Mountain-200 Silver, 46",
                  "Mountain Bikes",
                  "2319.9900"
                ],
                [
                  "782",
                  "Mountain-200 Black, 38",
                  "Mountain Bikes",
                  "2294.9900"
                ],
                [
                  "783",
                  "Mountain-200 Black, 42",
                  "Mountain Bikes",
                  "2294.9900"
                ],
                [
                  "784",
                  "Mountain-200 Black, 46",
                  "Mountain Bikes",
                  "2294.9900"
                ],
                [
                  "785",
                  "Mountain-300 Black, 38",
                  "Mountain Bikes",
                  "1079.9900"
                ],
                [
                  "786",
                  "Mountain-300 Black, 40",
                  "Mountain Bikes",
                  "1079.9900"
                ],
                [
                  "787",
                  "Mountain-300 Black, 44",
                  "Mountain Bikes",
                  "1079.9900"
                ],
                [
                  "788",
                  "Mountain-300 Black, 48",
                  "Mountain Bikes",
                  "1079.9900"
                ],
                [
                  "980",
                  "Mountain-400-W Silver, 38",
                  "Mountain Bikes",
                  "769.4900"
                ],
                [
                  "981",
                  "Mountain-400-W Silver, 40",
                  "Mountain Bikes",
                  "769.4900"
                ],
                [
                  "982",
                  "Mountain-400-W Silver, 42",
                  "Mountain Bikes",
                  "769.4900"
                ],
                [
                  "983",
                  "Mountain-400-W Silver, 46",
                  "Mountain Bikes",
                  "769.4900"
                ],
                [
                  "984",
                  "Mountain-500 Silver, 40",
                  "Mountain Bikes",
                  "564.9900"
                ],
                [
                  "985",
                  "Mountain-500 Silver, 42",
                  "Mountain Bikes",
                  "564.9900"
                ],
                [
                  "986",
                  "Mountain-500 Silver, 44",
                  "Mountain Bikes",
                  "564.9900"
                ],
                [
                  "987",
                  "Mountain-500 Silver, 48",
                  "Mountain Bikes",
                  "564.9900"
                ],
                [
                  "988",
                  "Mountain-500 Silver, 52",
                  "Mountain Bikes",
                  "564.9900"
                ],
                [
                  "989",
                  "Mountain-500 Black, 40",
                  "Mountain Bikes",
                  "539.9900"
                ],
                [
                  "990",
                  "Mountain-500 Black, 42",
                  "Mountain Bikes",
                  "539.9900"
                ],
                [
                  "991",
                  "Mountain-500 Black, 44",
                  "Mountain Bikes",
                  "539.9900"
                ],
                [
                  "992",
                  "Mountain-500 Black, 48",
                  "Mountain Bikes",
                  "539.9900"
                ],
                [
                  "993",
                  "Mountain-500 Black, 52",
                  "Mountain Bikes",
                  "539.9900"
                ],
                [
                  "973",
                  "Road-350-W Yellow, 40",
                  "Road Bikes",
                  "1700.9900"
                ],
                [
                  "974",
                  "Road-350-W Yellow, 42",
                  "Road Bikes",
                  "1700.9900"
                ],
                [
                  "975",
                  "Road-350-W Yellow, 44",
                  "Road Bikes",
                  "1700.9900"
                ],
                [
                  "976",
                  "Road-350-W Yellow, 48",
                  "Road Bikes",
                  "1700.9900"
                ],
                [
                  "977",
                  "Road-750 Black, 58",
                  "Road Bikes",
                  "539.9900"
                ],
                [
                  "997",
                  "Road-750 Black, 44",
                  "Road Bikes",
                  "539.9900"
                ],
                [
                  "998",
                  "Road-750 Black, 48",
                  "Road Bikes",
                  "539.9900"
                ],
                [
                  "999",
                  "Road-750 Black, 52",
                  "Road Bikes",
                  "539.9900"
                ],
                [
                  "789",
                  "Road-250 Red, 44",
                  "Road Bikes",
                  "2443.3500"
                ],
                [
                  "790",
                  "Road-250 Red, 48",
                  "Road Bikes",
                  "2443.3500"
                ],
                [
                  "791",
                  "Road-250 Red, 52",
                  "Road Bikes",
                  "2443.3500"
                ],
                [
                  "792",
                  "Road-250 Red, 58",
                  "Road Bikes",
                  "2443.3500"
                ],
                [
                  "793",
                  "Road-250 Black, 44",
                  "Road Bikes",
                  "2443.3500"
                ],
                [
                  "794",
                  "Road-250 Black, 48",
                  "Road Bikes",
                  "2443.3500"
                ],
                [
                  "795",
                  "Road-250 Black, 52",
                  "Road Bikes",
                  "2443.3500"
                ],
                [
                  "796",
                  "Road-250 Black, 58",
                  "Road Bikes",
                  "2443.3500"
                ],
                [
                  "797",
                  "Road-550-W Yellow, 38",
                  "Road Bikes",
                  "1120.4900"
                ],
                [
                  "798",
                  "Road-550-W Yellow, 40",
                  "Road Bikes",
                  "1120.4900"
                ],
                [
                  "799",
                  "Road-550-W Yellow, 42",
                  "Road Bikes",
                  "1120.4900"
                ],
                [
                  "800",
                  "Road-550-W Yellow, 44",
                  "Road Bikes",
                  "1120.4900"
                ],
                [
                  "801",
                  "Road-550-W Yellow, 48",
                  "Road Bikes",
                  "1120.4900"
                ],
                [
                  "749",
                  "Road-150 Red, 62",
                  "Road Bikes",
                  "3578.2700"
                ],
                [
                  "750",
                  "Road-150 Red, 44",
                  "Road Bikes",
                  "3578.2700"
                ],
                [
                  "751",
                  "Road-150 Red, 48",
                  "Road Bikes",
                  "3578.2700"
                ],
                [
                  "752",
                  "Road-150 Red, 52",
                  "Road Bikes",
                  "3578.2700"
                ],
                [
                  "753",
                  "Road-150 Red, 56",
                  "Road Bikes",
                  "3578.2700"
                ],
                [
                  "754",
                  "Road-450 Red, 58",
                  "Road Bikes",
                  "1457.9900"
                ],
                [
                  "755",
                  "Road-450 Red, 60",
                  "Road Bikes",
                  "1457.9900"
                ],
                [
                  "756",
                  "Road-450 Red, 44",
                  "Road Bikes",
                  "1457.9900"
                ],
                [
                  "757",
                  "Road-450 Red, 48",
                  "Road Bikes",
                  "1457.9900"
                ],
                [
                  "758",
                  "Road-450 Red, 52",
                  "Road Bikes",
                  "1457.9900"
                ],
                [
                  "759",
                  "Road-650 Red, 58",
                  "Road Bikes",
                  "782.9900"
                ],
                [
                  "760",
                  "Road-650 Red, 60",
                  "Road Bikes",
                  "782.9900"
                ],
                [
                  "761",
                  "Road-650 Red, 62",
                  "Road Bikes",
                  "782.9900"
                ],
                [
                  "762",
                  "Road-650 Red, 44",
                  "Road Bikes",
                  "782.9900"
                ],
                [
                  "763",
                  "Road-650 Red, 48",
                  "Road Bikes",
                  "782.9900"
                ],
                [
                  "764",
                  "Road-650 Red, 52",
                  "Road Bikes",
                  "782.9900"
                ],
                [
                  "765",
                  "Road-650 Black, 58",
                  "Road Bikes",
                  "782.9900"
                ],
                [
                  "766",
                  "Road-650 Black, 60",
                  "Road Bikes",
                  "782.9900"
                ],
                [
                  "767",
                  "Road-650 Black, 62",
                  "Road Bikes",
                  "782.9900"
                ],
                [
                  "768",
                  "Road-650 Black, 44",
                  "Road Bikes",
                  "782.9900"
                ],
                [
                  "769",
                  "Road-650 Black, 48",
                  "Road Bikes",
                  "782.9900"
                ],
                [
                  "770",
                  "Road-650 Black, 52",
                  "Road Bikes",
                  "782.9900"
                ],
                [
                  "978",
                  "Touring-3000 Blue, 44",
                  "Touring Bikes",
                  "742.3500"
                ],
                [
                  "979",
                  "Touring-3000 Blue, 50",
                  "Touring Bikes",
                  "742.3500"
                ],
                [
                  "953",
                  "Touring-2000 Blue, 60",
                  "Touring Bikes",
                  "1214.8500"
                ],
                [
                  "954",
                  "Touring-1000 Yellow, 46",
                  "Touring Bikes",
                  "2384.0700"
                ],
                [
                  "955",
                  "Touring-1000 Yellow, 50",
                  "Touring Bikes",
                  "2384.0700"
                ],
                [
                  "956",
                  "Touring-1000 Yellow, 54",
                  "Touring Bikes",
                  "2384.0700"
                ],
                [
                  "957",
                  "Touring-1000 Yellow, 60",
                  "Touring Bikes",
                  "2384.0700"
                ],
                [
                  "958",
                  "Touring-3000 Blue, 54",
                  "Touring Bikes",
                  "742.3500"
                ],
                [
                  "959",
                  "Touring-3000 Blue, 58",
                  "Touring Bikes",
                  "742.3500"
                ],
                [
                  "960",
                  "Touring-3000 Blue, 62",
                  "Touring Bikes",
                  "742.3500"
                ],
                [
                  "961",
                  "Touring-3000 Yellow, 44",
                  "Touring Bikes",
                  "742.3500"
                ],
                [
                  "962",
                  "Touring-3000 Yellow, 50",
                  "Touring Bikes",
                  "742.3500"
                ],
                [
                  "963",
                  "Touring-3000 Yellow, 54",
                  "Touring Bikes",
                  "742.3500"
                ],
                [
                  "964",
                  "Touring-3000 Yellow, 58",
                  "Touring Bikes",
                  "742.3500"
                ],
                [
                  "965",
                  "Touring-3000 Yellow, 62",
                  "Touring Bikes",
                  "742.3500"
                ],
                [
                  "966",
                  "Touring-1000 Blue, 46",
                  "Touring Bikes",
                  "2384.0700"
                ],
                [
                  "967",
                  "Touring-1000 Blue, 50",
                  "Touring Bikes",
                  "2384.0700"
                ],
                [
                  "968",
                  "Touring-1000 Blue, 54",
                  "Touring Bikes",
                  "2384.0700"
                ],
                [
                  "969",
                  "Touring-1000 Blue, 60",
                  "Touring Bikes",
                  "2384.0700"
                ],
                [
                  "970",
                  "Touring-2000 Blue, 46",
                  "Touring Bikes",
                  "1214.8500"
                ],
                [
                  "971",
                  "Touring-2000 Blue, 50",
                  "Touring Bikes",
                  "1214.8500"
                ],
                [
                  "972",
                  "Touring-2000 Blue, 54",
                  "Touring Bikes",
                  "1214.8500"
                ],
                [
                  "946",
                  "LL Touring Handlebars",
                  "Handlebars",
                  "46.0900"
                ],
                [
                  "947",
                  "HL Touring Handlebars",
                  "Handlebars",
                  "91.5700"
                ],
                [
                  "808",
                  "LL Mountain Handlebars",
                  "Handlebars",
                  "44.5400"
                ],
                [
                  "809",
                  "ML Mountain Handlebars",
                  "Handlebars",
                  "61.9200"
                ],
                [
                  "810",
                  "HL Mountain Handlebars",
                  "Handlebars",
                  "120.2700"
                ],
                [
                  "811",
                  "LL Road Handlebars",
                  "Handlebars",
                  "44.5400"
                ],
                [
                  "812",
                  "ML Road Handlebars",
                  "Handlebars",
                  "61.9200"
                ],
                [
                  "813",
                  "HL Road Handlebars",
                  "Handlebars",
                  "120.2700"
                ],
                [
                  "994",
                  "LL Bottom Bracket",
                  "Bottom Brackets",
                  "53.9900"
                ],
                [
                  "995",
                  "ML Bottom Bracket",
                  "Bottom Brackets",
                  "101.2400"
                ],
                [
                  "996",
                  "HL Bottom Bracket",
                  "Bottom Brackets",
                  "121.4900"
                ],
                [
                  "948",
                  "Front Brakes",
                  "Brakes",
                  "106.5000"
                ],
                [
                  "907",
                  "Rear Brakes",
                  "Brakes",
                  "106.5000"
                ],
                [
                  "952",
                  "Chain",
                  "Chains",
                  "20.2400"
                ],
                [
                  "949",
                  "LL Crankset",
                  "Cranksets",
                  "175.4900"
                ],
                [
                  "950",
                  "ML Crankset",
                  "Cranksets",
                  "256.4900"
                ],
                [
                  "951",
                  "HL Crankset",
                  "Cranksets",
                  "404.9900"
                ],
                [
                  "945",
                  "Front Derailleur",
                  "Derailleurs",
                  "91.4900"
                ],
                [
                  "894",
                  "Rear Derailleur",
                  "Derailleurs",
                  "121.4600"
                ],
                [
                  "802",
                  "LL Fork",
                  "Forks",
                  "148.2200"
                ],
                [
                  "803",
                  "ML Fork",
                  "Forks",
                  "175.4900"
                ],
                [
                  "804",
                  "HL Fork",
                  "Forks",
                  "229.4900"
                ],
                [
                  "805",
                  "LL Headset",
                  "Headsets",
                  "34.2000"
                ],
                [
                  "806",
                  "ML Headset",
                  "Headsets",
                  "102.2900"
                ],
                [
                  "807",
                  "HL Headset",
                  "Headsets",
                  "124.7300"
                ],
                [
                  "739",
                  "HL Mountain Frame - Silver, 42",
                  "Mountain Frames",
                  "1364.5000"
                ],
                [
                  "740",
                  "HL Mountain Frame - Silver, 44",
                  "Mountain Frames",
                  "1364.5000"
                ],
                [
                  "741",
                  "HL Mountain Frame - Silver, 48",
                  "Mountain Frames",
                  "1364.5000"
                ],
                [
                  "742",
                  "HL Mountain Frame - Silver, 46",
                  "Mountain Frames",
                  "1364.5000"
                ],
                [
                  "743",
                  "HL Mountain Frame - Black, 42",
                  "Mountain Frames",
                  "1349.6000"
                ],
                [
                  "744",
                  "HL Mountain Frame - Black, 44",
                  "Mountain Frames",
                  "1349.6000"
                ],
                [
                  "745",
                  "HL Mountain Frame - Black, 48",
                  "Mountain Frames",
                  "1349.6000"
                ],
                [
                  "746",
                  "HL Mountain Frame - Black, 46",
                  "Mountain Frames",
                  "1349.6000"
                ],
                [
                  "747",
                  "HL Mountain Frame - Black, 38",
                  "Mountain Frames",
                  "1349.6000"
                ],
                [
                  "748",
                  "HL Mountain Frame - Silver, 38",
                  "Mountain Frames",
                  "1364.5000"
                ],
                [
                  "814",
                  "ML Mountain Frame - Black, 38",
                  "Mountain Frames",
                  "348.7600"
                ],
                [
                  "830",
                  "ML Mountain Frame - Black, 40",
                  "Mountain Frames",
                  "348.7600"
                ],
                [
                  "831",
                  "ML Mountain Frame - Black, 44",
                  "Mountain Frames",
                  "348.7600"
                ],
                [
                  "832",
                  "ML Mountain Frame - Black, 48",
                  "Mountain Frames",
                  "348.7600"
                ],
                [
                  "924",
                  "LL Mountain Frame - Black, 42",
                  "Mountain Frames",
                  "249.7900"
                ],
                [
                  "925",
                  "LL Mountain Frame - Black, 44",
                  "Mountain Frames",
                  "249.7900"
                ],
                [
                  "926",
                  "LL Mountain Frame - Black, 48",
                  "Mountain Frames",
                  "249.7900"
                ],
                [
                  "927",
                  "LL Mountain Frame - Black, 52",
                  "Mountain Frames",
                  "249.7900"
                ],
                [
                  "917",
                  "LL Mountain Frame - Silver, 42",
                  "Mountain Frames",
                  "264.0500"
                ],
                [
                  "918",
                  "LL Mountain Frame - Silver, 44",
                  "Mountain Frames",
                  "264.0500"
                ],
                [
                  "919",
                  "LL Mountain Frame - Silver, 48",
                  "Mountain Frames",
                  "264.0500"
                ],
                [
                  "920",
                  "LL Mountain Frame - Silver, 52",
                  "Mountain Frames",
                  "264.0500"
                ],
                [
                  "904",
                  "ML Mountain Frame-W - Silver, 40",
                  "Mountain Frames",
                  "364.0900"
                ],
                [
                  "905",
                  "ML Mountain Frame-W - Silver, 42",
                  "Mountain Frames",
                  "364.0900"
                ],
                [
                  "906",
                  "ML Mountain Frame-W - Silver, 46",
                  "Mountain Frames",
                  "364.0900"
                ],
                [
                  "942",
                  "ML Mountain Frame-W - Silver, 38",
                  "Mountain Frames",
                  "364.0900"
                ],
                [
                  "943",
                  "LL Mountain Frame - Black, 40",
                  "Mountain Frames",
                  "249.7900"
                ],
                [
                  "944",
                  "LL Mountain Frame - Silver, 40",
                  "Mountain Frames",
                  "264.0500"
                ],
                [
                  "935",
                  "LL Mountain Pedal",
                  "Pedals",
                  "40.4900"
                ],
                [
                  "936",
                  "ML Mountain Pedal",
                  "Pedals",
                  "62.0900"
                ],
                [
                  "937",
                  "HL Mountain Pedal",
                  "Pedals",
                  "80.9900"
                ],
                [
                  "938",
                  "LL Road Pedal",
                  "Pedals",
                  "40.4900"
                ],
                [
                  "939",
                  "ML Road Pedal",
                  "Pedals",
                  "62.0900"
                ],
                [
                  "940",
                  "HL Road Pedal",
                  "Pedals",
                  "80.9900"
                ],
                [
                  "941",
                  "Touring Pedal",
                  "Pedals",
                  "80.9900"
                ],
                [
                  "833",
                  "ML Road Frame-W - Yellow, 40",
                  "Road Frames",
                  "594.8300"
                ],
                [
                  "834",
                  "ML Road Frame-W - Yellow, 42",
                  "Road Frames",
                  "594.8300"
                ],
                [
                  "835",
                  "ML Road Frame-W - Yellow, 44",
                  "Road Frames",
                  "594.8300"
                ],
                [
                  "836",
                  "ML Road Frame-W - Yellow, 48",
                  "Road Frames",
                  "594.8300"
                ],
                [
                  "837",
                  "HL Road Frame - Black, 62",
                  "Road Frames",
                  "1431.5000"
                ],
                [
                  "838",
                  "HL Road Frame - Black, 44",
                  "Road Frames",
                  "1431.5000"
                ],
                [
                  "839",
                  "HL Road Frame - Black, 48",
                  "Road Frames",
                  "1431.5000"
                ],
                [
                  "840",
                  "HL Road Frame - Black, 52",
                  "Road Frames",
                  "1431.5000"
                ],
                [
                  "822",
                  "ML Road Frame-W - Yellow, 38",
                  "Road Frames",
                  "594.8300"
                ],
                [
                  "680",
                  "HL Road Frame - Black, 58",
                  "Road Frames",
                  "1431.5000"
                ],
                [
                  "706",
                  "HL Road Frame - Red, 58",
                  "Road Frames",
                  "1431.5000"
                ],
                [
                  "717",
                  "HL Road Frame - Red, 62",
                  "Road Frames",
                  "1431.5000"
                ],
                [
                  "718",
                  "HL Road Frame - Red, 44",
                  "Road Frames",
                  "1431.5000"
                ],
                [
                  "719",
                  "HL Road Frame - Red, 48",
                  "Road Frames",
                  "1431.5000"
                ],
                [
                  "720",
                  "HL Road Frame - Red, 52",
                  "Road Frames",
                  "1431.5000"
                ],
                [
                  "721",
                  "HL Road Frame - Red, 56",
                  "Road Frames",
                  "1431.5000"
                ],
                [
                  "722",
                  "LL Road Frame - Black, 58",
                  "Road Frames",
                  "337.2200"
                ],
                [
                  "723",
                  "LL Road Frame - Black, 60",
                  "Road Frames",
                  "337.2200"
                ],
                [
                  "724",
                  "LL Road Frame - Black, 62",
                  "Road Frames",
                  "337.2200"
                ],
                [
                  "725",
                  "LL Road Frame - Red, 44",
                  "Road Frames",
                  "337.2200"
                ],
                [
                  "726",
                  "LL Road Frame - Red, 48",
                  "Road Frames",
                  "337.2200"
                ],
                [
                  "727",
                  "LL Road Frame - Red, 52",
                  "Road Frames",
                  "337.2200"
                ],
                [
                  "728",
                  "LL Road Frame - Red, 58",
                  "Road Frames",
                  "337.2200"
                ],
                [
                  "729",
                  "LL Road Frame - Red, 60",
                  "Road Frames",
                  "337.2200"
                ],
                [
                  "730",
                  "LL Road Frame - Red, 62",
                  "Road Frames",
                  "337.2200"
                ],
                [
                  "731",
                  "ML Road Frame - Red, 44",
                  "Road Frames",
                  "594.8300"
                ],
                [
                  "732",
                  "ML Road Frame - Red, 48",
                  "Road Frames",
                  "594.8300"
                ],
                [
                  "733",
                  "ML Road Frame - Red, 52",
                  "Road Frames",
                  "594.8300"
                ],
                [
                  "734",
                  "ML Road Frame - Red, 58",
                  "Road Frames",
                  "594.8300"
                ],
                [
                  "735",
                  "ML Road Frame - Red, 60",
                  "Road Frames",
                  "594.8300"
                ],
                [
                  "736",
                  "LL Road Frame - Black, 44",
                  "Road Frames",
                  "337.2200"
                ],
                [
                  "737",
                  "LL Road Frame - Black, 48",
                  "Road Frames",
                  "337.2200"
                ],
                [
                  "738",
                  "LL Road Frame - Black, 52",
                  "Road Frames",
                  "337.2200"
                ],
                [
                  "908",
                  "LL Mountain Seat/Saddle",
                  "Saddles",
                  "27.1200"
                ],
                [
                  "909",
                  "ML Mountain Seat/Saddle",
                  "Saddles",
                  "39.1400"
                ],
                [
                  "910",
                  "HL Mountain Seat/Saddle",
                  "Saddles",
                  "52.6400"
                ],
                [
                  "911",
                  "LL Road Seat/Saddle",
                  "Saddles",
                  "27.1200"
                ],
                [
                  "912",
                  "ML Road Seat/Saddle",
                  "Saddles",
                  "39.1400"
                ],
                [
                  "913",
                  "HL Road Seat/Saddle",
                  "Saddles",
                  "52.6400"
                ],
                [
                  "914",
                  "LL Touring Seat/Saddle",
                  "Saddles",
                  "27.1200"
                ],
                [
                  "915",
                  "ML Touring Seat/Saddle",
                  "Saddles",
                  "39.1400"
                ],
                [
                  "916",
                  "HL Touring Seat/Saddle",
                  "Saddles",
                  "52.6400"
                ],
                [
                  "895",
                  "LL Touring Frame - Blue, 50",
                  "Touring Frames",
                  "333.4200"
                ],
                [
                  "896",
                  "LL Touring Frame - Blue, 54",
                  "Touring Frames",
                  "333.4200"
                ],
                [
                  "897",
                  "LL Touring Frame - Blue, 58",
                  "Touring Frames",
                  "333.4200"
                ],
                [
                  "898",
                  "LL Touring Frame - Blue, 62",
                  "Touring Frames",
                  "333.4200"
                ],
                [
                  "899",
                  "LL Touring Frame - Yellow, 44",
                  "Touring Frames",
                  "333.4200"
                ],
                [
                  "900",
                  "LL Touring Frame - Yellow, 50",
                  "Touring Frames",
                  "333.4200"
                ],
                [
                  "901",
                  "LL Touring Frame - Yellow, 54",
                  "Touring Frames",
                  "333.4200"
                ],
                [
                  "902",
                  "LL Touring Frame - Yellow, 58",
                  "Touring Frames",
                  "333.4200"
                ],
                [
                  "903",
                  "LL Touring Frame - Blue, 44",
                  "Touring Frames",
                  "333.4200"
                ],
                [
                  "885",
                  "HL Touring Frame - Yellow, 60",
                  "Touring Frames",
                  "1003.9100"
                ],
                [
                  "886",
                  "LL Touring Frame - Yellow, 62",
                  "Touring Frames",
                  "333.4200"
                ],
                [
                  "887",
                  "HL Touring Frame - Yellow, 46",
                  "Touring Frames",
                  "1003.9100"
                ],
                [
                  "888",
                  "HL Touring Frame - Yellow, 50",
                  "Touring Frames",
                  "1003.9100"
                ],
                [
                  "889",
                  "HL Touring Frame - Yellow, 54",
                  "Touring Frames",
                  "1003.9100"
                ],
                [
                  "890",
                  "HL Touring Frame - Blue, 46",
                  "Touring Frames",
                  "1003.9100"
                ],
                [
                  "891",
                  "HL Touring Frame - Blue, 50",
                  "Touring Frames",
                  "1003.9100"
                ],
                [
                  "892",
                  "HL Touring Frame - Blue, 54",
                  "Touring Frames",
                  "1003.9100"
                ],
                [
                  "893",
                  "HL Touring Frame - Blue, 60",
                  "Touring Frames",
                  "1003.9100"
                ],
                [
                  "823",
                  "LL Mountain Rear Wheel",
                  "Wheels",
                  "87.7450"
                ],
                [
                  "824",
                  "ML Mountain Rear Wheel",
                  "Wheels",
                  "236.0250"
                ],
                [
                  "825",
                  "HL Mountain Rear Wheel",
                  "Wheels",
                  "327.2150"
                ],
                [
                  "826",
                  "LL Road Rear Wheel",
                  "Wheels",
                  "112.5650"
                ],
                [
                  "827",
                  "ML Road Rear Wheel",
                  "Wheels",
                  "275.3850"
                ],
                [
                  "828",
                  "HL Road Rear Wheel",
                  "Wheels",
                  "357.0600"
                ],
                [
                  "829",
                  "Touring Rear Wheel",
                  "Wheels",
                  "245.0100"
                ],
                [
                  "815",
                  "LL Mountain Front Wheel",
                  "Wheels",
                  "60.7450"
                ],
                [
                  "816",
                  "ML Mountain Front Wheel",
                  "Wheels",
                  "209.0250"
                ],
                [
                  "817",
                  "HL Mountain Front Wheel",
                  "Wheels",
                  "300.2150"
                ],
                [
                  "818",
                  "LL Road Front Wheel",
                  "Wheels",
                  "85.5650"
                ],
                [
                  "819",
                  "ML Road Front Wheel",
                  "Wheels",
                  "248.3850"
                ],
                [
                  "820",
                  "HL Road Front Wheel",
                  "Wheels",
                  "330.0600"
                ],
                [
                  "821",
                  "Touring Front Wheel",
                  "Wheels",
                  "218.0100"
                ],
                [
                  "855",
                  "Men's Bib-Shorts, S",
                  "Bib-Shorts",
                  "89.9900"
                ],
                [
                  "856",
                  "Men's Bib-Shorts, M",
                  "Bib-Shorts",
                  "89.9900"
                ],
                [
                  "857",
                  "Men's Bib-Shorts, L",
                  "Bib-Shorts",
                  "89.9900"
                ],
                [
                  "712",
                  "AWC Logo Cap",
                  "Caps",
                  "8.9900"
                ],
                [
                  "858",
                  "Half-Finger Gloves, S",
                  "Gloves",
                  "24.4900"
                ],
                [
                  "859",
                  "Half-Finger Gloves, M",
                  "Gloves",
                  "24.4900"
                ],
                [
                  "860",
                  "Half-Finger Gloves, L",
                  "Gloves",
                  "24.4900"
                ],
                [
                  "861",
                  "Full-Finger Gloves, S",
                  "Gloves",
                  "37.9900"
                ],
                [
                  "862",
                  "Full-Finger Gloves, M",
                  "Gloves",
                  "37.9900"
                ],
                [
                  "863",
                  "Full-Finger Gloves, L",
                  "Gloves",
                  "37.9900"
                ],
                [
                  "713",
                  "Long-Sleeve Logo Jersey, S",
                  "Jerseys",
                  "49.9900"
                ],
                [
                  "714",
                  "Long-Sleeve Logo Jersey, M",
                  "Jerseys",
                  "49.9900"
                ],
                [
                  "715",
                  "Long-Sleeve Logo Jersey, L",
                  "Jerseys",
                  "49.9900"
                ],
                [
                  "716",
                  "Long-Sleeve Logo Jersey, XL",
                  "Jerseys",
                  "49.9900"
                ],
                [
                  "881",
                  "Short-Sleeve Classic Jersey, S",
                  "Jerseys",
                  "53.9900"
                ],
                [
                  "882",
                  "Short-Sleeve Classic Jersey, M",
                  "Jerseys",
                  "53.9900"
                ],
                [
                  "883",
                  "Short-Sleeve Classic Jersey, L",
                  "Jerseys",
                  "53.9900"
                ],
                [
                  "884",
                  "Short-Sleeve Classic Jersey, XL",
                  "Jerseys",
                  "53.9900"
                ],
                [
                  "867",
                  "Women's Mountain Shorts, S",
                  "Shorts",
                  "69.9900"
                ],
                [
                  "868",
                  "Women's Mountain Shorts, M",
                  "Shorts",
                  "69.9900"
                ],
                [
                  "869",
                  "Women's Mountain Shorts, L",
                  "Shorts",
                  "69.9900"
                ],
                [
                  "841",
                  "Men's Sports Shorts, S",
                  "Shorts",
                  "59.9900"
                ],
                [
                  "849",
                  "Men's Sports Shorts, M",
                  "Shorts",
                  "59.9900"
                ],
                [
                  "850",
                  "Men's Sports Shorts, L",
                  "Shorts",
                  "59.9900"
                ],
                [
                  "851",
                  "Men's Sports Shorts, XL",
                  "Shorts",
                  "59.9900"
                ],
                [
                  "709",
                  "Mountain Bike Socks, M",
                  "Socks",
                  "9.5000"
                ],
                [
                  "710",
                  "Mountain Bike Socks, L",
                  "Socks",
                  "9.5000"
                ],
                [
                  "874",
                  "Racing Socks, M",
                  "Socks",
                  "8.9900"
                ],
                [
                  "875",
                  "Racing Socks, L",
                  "Socks",
                  "8.9900"
                ],
                [
                  "852",
                  "Women's Tights, S",
                  "Tights",
                  "74.9900"
                ],
                [
                  "853",
                  "Women's Tights, M",
                  "Tights",
                  "74.9900"
                ],
                [
                  "854",
                  "Women's Tights, L",
                  "Tights",
                  "74.9900"
                ],
                [
                  "864",
                  "Classic Vest, S",
                  "Vests",
                  "63.5000"
                ],
                [
                  "865",
                  "Classic Vest, M",
                  "Vests",
                  "63.5000"
                ],
                [
                  "866",
                  "Classic Vest, L",
                  "Vests",
                  "63.5000"
                ],
                [
                  "876",
                  "Hitch Rack - 4-Bike",
                  "Bike Racks",
                  "120.0000"
                ],
                [
                  "879",
                  "All-Purpose Bike Stand",
                  "Bike Stands",
                  "159.0000"
                ],
                [
                  "870",
                  "Water Bottle - 30 oz.",
                  "Bottles and Cages",
                  "4.9900"
                ],
                [
                  "871",
                  "Mountain Bottle Cage",
                  "Bottles and Cages",
                  "9.9900"
                ],
                [
                  "872",
                  "Road Bottle Cage",
                  "Bottles and Cages",
                  "8.9900"
                ],
                [
                  "877",
                  "Bike Wash - Dissolver",
                  "Cleaners",
                  "7.9500"
                ],
                [
                  "878",
                  "Fender Set - Mountain",
                  "Fenders",
                  "21.9800"
                ],
                [
                  "711",
                  "Sport-100 Helmet, Blue",
                  "Helmets",
                  "34.9900"
                ],
                [
                  "707",
                  "Sport-100 Helmet, Red",
                  "Helmets",
                  "34.9900"
                ],
                [
                  "708",
                  "Sport-100 Helmet, Black",
                  "Helmets",
                  "34.9900"
                ],
                [
                  "880",
                  "Hydration Pack - 70 oz.",
                  "Hydration Packs",
                  "54.9900"
                ],
                [
                  "846",
                  "Taillights - Battery-Powered",
                  "Lights",
                  "13.9900"
                ],
                [
                  "847",
                  "Headlights - Dual-Beam",
                  "Lights",
                  "34.9900"
                ],
                [
                  "848",
                  "Headlights - Weatherproof",
                  "Lights",
                  "44.9900"
                ],
                [
                  "843",
                  "Cable Lock",
                  "Locks",
                  "25.0000"
                ],
                [
                  "842",
                  "Touring-Panniers, Large",
                  "Panniers",
                  "125.0000"
                ],
                [
                  "844",
                  "Minipump",
                  "Pumps",
                  "19.9900"
                ],
                [
                  "845",
                  "Mountain Pump",
                  "Pumps",
                  "24.9900"
                ],
                [
                  "873",
                  "Patch Kit/8 Patches",
                  "Tires and Tubes",
                  "2.2900"
                ],
                [
                  "921",
                  "Mountain Tire Tube",
                  "Tires and Tubes",
                  "4.9900"
                ],
                [
                  "922",
                  "Road Tire Tube",
                  "Tires and Tubes",
                  "3.9900"
                ],
                [
                  "923",
                  "Touring Tire Tube",
                  "Tires and Tubes",
                  "4.9900"
                ],
                [
                  "928",
                  "LL Mountain Tire",
                  "Tires and Tubes",
                  "24.9900"
                ],
                [
                  "929",
                  "ML Mountain Tire",
                  "Tires and Tubes",
                  "29.9900"
                ],
                [
                  "930",
                  "HL Mountain Tire",
                  "Tires and Tubes",
                  "35.0000"
                ],
                [
                  "931",
                  "LL Road Tire",
                  "Tires and Tubes",
                  "21.4900"
                ],
                [
                  "932",
                  "ML Road Tire",
                  "Tires and Tubes",
                  "24.9900"
                ],
                [
                  "933",
                  "HL Road Tire",
                  "Tires and Tubes",
                  "32.6000"
                ],
                [
                  "934",
                  "Touring Tire",
                  "Tires and Tubes",
                  "28.9900"
                ]
              ]
            },
            "text/plain": "<Spark SQL result set with 295 rows and 4 fields>"
          },
          "metadata": {}
        }
      ],
      "execution_count": 10,
      "metadata": {
        "jupyter": {
          "source_hidden": false,
          "outputs_hidden": false
        },
        "nteract": {
          "transient": {
            "deleting": false
          }
        },
        "microsoft": {
          "language": "sparksql"
        },
        "collapsed": false
      }
    },
    {
      "cell_type": "code",
      "source": [
        " %%sql\r\n",
        "\r\n",
        " USE AdventureWorks;\r\n",
        "\r\n",
        " SHOW TABLES;"
      ],
      "outputs": [
        {
          "output_type": "display_data",
          "data": {
            "application/vnd.livy.statement-meta+json": {
              "spark_pool": null,
              "session_id": "0",
              "statement_id": -1,
              "state": "finished",
              "livy_statement_state": "available",
              "queued_time": "2023-10-28T01:53:19.9057868Z",
              "session_start_time": null,
              "execution_start_time": "2023-10-28T01:53:22.5684552Z",
              "execution_finish_time": "2023-10-28T01:53:22.5686594Z",
              "spark_jobs": null,
              "parent_msg_id": "b01c6500-2600-40da-a2b1-de299d5853c9"
            },
            "text/plain": "StatementMeta(, 0, -1, Finished, Available)"
          },
          "metadata": {}
        },
        {
          "output_type": "execute_result",
          "execution_count": 11,
          "data": {
            "application/vnd.synapse.sparksql-result+json": {
              "schema": {
                "type": "struct",
                "fields": []
              },
              "data": []
            },
            "text/plain": "<Spark SQL result set with 0 rows and 0 fields>"
          },
          "metadata": {}
        },
        {
          "output_type": "execute_result",
          "execution_count": 11,
          "data": {
            "application/vnd.synapse.sparksql-result+json": {
              "schema": {
                "type": "struct",
                "fields": [
                  {
                    "name": "database",
                    "type": "string",
                    "nullable": false,
                    "metadata": {}
                  },
                  {
                    "name": "tableName",
                    "type": "string",
                    "nullable": false,
                    "metadata": {}
                  },
                  {
                    "name": "isTemporary",
                    "type": "boolean",
                    "nullable": false,
                    "metadata": {}
                  }
                ]
              },
              "data": [
                [
                  "adventureworks",
                  "productsexternal",
                  false
                ],
                [
                  "adventureworks",
                  "productsmanaged",
                  false
                ]
              ]
            },
            "text/plain": "<Spark SQL result set with 2 rows and 3 fields>"
          },
          "metadata": {}
        }
      ],
      "execution_count": 11,
      "metadata": {
        "jupyter": {
          "source_hidden": false,
          "outputs_hidden": false
        },
        "nteract": {
          "transient": {
            "deleting": false
          }
        },
        "microsoft": {
          "language": "sparksql"
        },
        "collapsed": false
      }
    },
    {
      "cell_type": "code",
      "source": [
        " %%sql\r\n",
        "\r\n",
        " USE AdventureWorks;\r\n",
        "\r\n",
        " DROP TABLE IF EXISTS ProductsExternal;\r\n",
        " DROP TABLE IF EXISTS ProductsManaged;"
      ],
      "outputs": [
        {
          "output_type": "display_data",
          "data": {
            "application/vnd.livy.statement-meta+json": {
              "spark_pool": null,
              "session_id": "0",
              "statement_id": -1,
              "state": "finished",
              "livy_statement_state": "available",
              "queued_time": "2023-10-28T01:53:50.4321607Z",
              "session_start_time": null,
              "execution_start_time": "2023-10-28T01:53:55.1671994Z",
              "execution_finish_time": "2023-10-28T01:53:55.1673897Z",
              "spark_jobs": null,
              "parent_msg_id": "a36e6aed-dd9f-4bd5-a9ed-ba8862cfbcaa"
            },
            "text/plain": "StatementMeta(, 0, -1, Finished, Available)"
          },
          "metadata": {}
        },
        {
          "output_type": "execute_result",
          "execution_count": 12,
          "data": {
            "application/vnd.synapse.sparksql-result+json": {
              "schema": {
                "type": "struct",
                "fields": []
              },
              "data": []
            },
            "text/plain": "<Spark SQL result set with 0 rows and 0 fields>"
          },
          "metadata": {}
        },
        {
          "output_type": "execute_result",
          "execution_count": 12,
          "data": {
            "application/vnd.synapse.sparksql-result+json": {
              "schema": {
                "type": "struct",
                "fields": []
              },
              "data": []
            },
            "text/plain": "<Spark SQL result set with 0 rows and 0 fields>"
          },
          "metadata": {}
        },
        {
          "output_type": "execute_result",
          "execution_count": 12,
          "data": {
            "application/vnd.synapse.sparksql-result+json": {
              "schema": {
                "type": "struct",
                "fields": []
              },
              "data": []
            },
            "text/plain": "<Spark SQL result set with 0 rows and 0 fields>"
          },
          "metadata": {}
        }
      ],
      "execution_count": 12,
      "metadata": {
        "jupyter": {
          "source_hidden": false,
          "outputs_hidden": false
        },
        "nteract": {
          "transient": {
            "deleting": false
          }
        },
        "microsoft": {
          "language": "sparksql"
        },
        "collapsed": false
      }
    },
    {
      "cell_type": "code",
      "source": [
        " %%sql\r\n",
        "\r\n",
        " USE AdventureWorks;\r\n",
        "\r\n",
        " CREATE TABLE Products\r\n",
        " USING DELTA\r\n",
        " LOCATION '/delta/products-delta';"
      ],
      "outputs": [
        {
          "output_type": "display_data",
          "data": {
            "application/vnd.livy.statement-meta+json": {
              "spark_pool": null,
              "session_id": "0",
              "statement_id": -1,
              "state": "finished",
              "livy_statement_state": "available",
              "queued_time": "2023-10-28T01:55:10.0130988Z",
              "session_start_time": null,
              "execution_start_time": "2023-10-28T01:55:12.7697527Z",
              "execution_finish_time": "2023-10-28T01:55:12.7699362Z",
              "spark_jobs": null,
              "parent_msg_id": "cafcfdc8-30d8-4ef4-bd15-dddc6f3ef708"
            },
            "text/plain": "StatementMeta(, 0, -1, Finished, Available)"
          },
          "metadata": {}
        },
        {
          "output_type": "execute_result",
          "execution_count": 13,
          "data": {
            "application/vnd.synapse.sparksql-result+json": {
              "schema": {
                "type": "struct",
                "fields": []
              },
              "data": []
            },
            "text/plain": "<Spark SQL result set with 0 rows and 0 fields>"
          },
          "metadata": {}
        },
        {
          "output_type": "execute_result",
          "execution_count": 13,
          "data": {
            "application/vnd.synapse.sparksql-result+json": {
              "schema": {
                "type": "struct",
                "fields": []
              },
              "data": []
            },
            "text/plain": "<Spark SQL result set with 0 rows and 0 fields>"
          },
          "metadata": {}
        }
      ],
      "execution_count": 13,
      "metadata": {
        "jupyter": {
          "source_hidden": false,
          "outputs_hidden": false
        },
        "nteract": {
          "transient": {
            "deleting": false
          }
        },
        "microsoft": {
          "language": "sparksql"
        },
        "collapsed": false
      }
    },
    {
      "cell_type": "code",
      "source": [
        " %%sql\r\n",
        "\r\n",
        " USE AdventureWorks;\r\n",
        "\r\n",
        " SELECT * FROM Products;"
      ],
      "outputs": [
        {
          "output_type": "display_data",
          "data": {
            "application/vnd.livy.statement-meta+json": {
              "spark_pool": null,
              "session_id": "0",
              "statement_id": -1,
              "state": "finished",
              "livy_statement_state": "available",
              "queued_time": "2023-10-28T01:55:21.4102975Z",
              "session_start_time": null,
              "execution_start_time": "2023-10-28T01:55:24.7046717Z",
              "execution_finish_time": "2023-10-28T01:55:24.7048694Z",
              "spark_jobs": null,
              "parent_msg_id": "7e75d515-3109-414c-aa2c-c34643881f33"
            },
            "text/plain": "StatementMeta(, 0, -1, Finished, Available)"
          },
          "metadata": {}
        },
        {
          "output_type": "execute_result",
          "execution_count": 14,
          "data": {
            "application/vnd.synapse.sparksql-result+json": {
              "schema": {
                "type": "struct",
                "fields": []
              },
              "data": []
            },
            "text/plain": "<Spark SQL result set with 0 rows and 0 fields>"
          },
          "metadata": {}
        },
        {
          "output_type": "execute_result",
          "execution_count": 14,
          "data": {
            "application/vnd.synapse.sparksql-result+json": {
              "schema": {
                "type": "struct",
                "fields": [
                  {
                    "name": "ProductID",
                    "type": "string",
                    "nullable": true,
                    "metadata": {}
                  },
                  {
                    "name": "ProductName",
                    "type": "string",
                    "nullable": true,
                    "metadata": {}
                  },
                  {
                    "name": "Category",
                    "type": "string",
                    "nullable": true,
                    "metadata": {}
                  },
                  {
                    "name": "ListPrice",
                    "type": "string",
                    "nullable": true,
                    "metadata": {}
                  }
                ]
              },
              "data": [
                [
                  "771",
                  "Mountain-100 Silver, 38",
                  "Mountain Bikes",
                  "3059.991"
                ],
                [
                  "772",
                  "Mountain-100 Silver, 42",
                  "Mountain Bikes",
                  "3399.9900"
                ],
                [
                  "773",
                  "Mountain-100 Silver, 44",
                  "Mountain Bikes",
                  "3399.9900"
                ],
                [
                  "774",
                  "Mountain-100 Silver, 48",
                  "Mountain Bikes",
                  "3399.9900"
                ],
                [
                  "775",
                  "Mountain-100 Black, 38",
                  "Mountain Bikes",
                  "3374.9900"
                ],
                [
                  "776",
                  "Mountain-100 Black, 42",
                  "Mountain Bikes",
                  "3374.9900"
                ],
                [
                  "777",
                  "Mountain-100 Black, 44",
                  "Mountain Bikes",
                  "3374.9900"
                ],
                [
                  "778",
                  "Mountain-100 Black, 48",
                  "Mountain Bikes",
                  "3374.9900"
                ],
                [
                  "779",
                  "Mountain-200 Silver, 38",
                  "Mountain Bikes",
                  "2319.9900"
                ],
                [
                  "780",
                  "Mountain-200 Silver, 42",
                  "Mountain Bikes",
                  "2319.9900"
                ],
                [
                  "781",
                  "Mountain-200 Silver, 46",
                  "Mountain Bikes",
                  "2319.9900"
                ],
                [
                  "782",
                  "Mountain-200 Black, 38",
                  "Mountain Bikes",
                  "2294.9900"
                ],
                [
                  "783",
                  "Mountain-200 Black, 42",
                  "Mountain Bikes",
                  "2294.9900"
                ],
                [
                  "784",
                  "Mountain-200 Black, 46",
                  "Mountain Bikes",
                  "2294.9900"
                ],
                [
                  "785",
                  "Mountain-300 Black, 38",
                  "Mountain Bikes",
                  "1079.9900"
                ],
                [
                  "786",
                  "Mountain-300 Black, 40",
                  "Mountain Bikes",
                  "1079.9900"
                ],
                [
                  "787",
                  "Mountain-300 Black, 44",
                  "Mountain Bikes",
                  "1079.9900"
                ],
                [
                  "788",
                  "Mountain-300 Black, 48",
                  "Mountain Bikes",
                  "1079.9900"
                ],
                [
                  "980",
                  "Mountain-400-W Silver, 38",
                  "Mountain Bikes",
                  "769.4900"
                ],
                [
                  "981",
                  "Mountain-400-W Silver, 40",
                  "Mountain Bikes",
                  "769.4900"
                ],
                [
                  "982",
                  "Mountain-400-W Silver, 42",
                  "Mountain Bikes",
                  "769.4900"
                ],
                [
                  "983",
                  "Mountain-400-W Silver, 46",
                  "Mountain Bikes",
                  "769.4900"
                ],
                [
                  "984",
                  "Mountain-500 Silver, 40",
                  "Mountain Bikes",
                  "564.9900"
                ],
                [
                  "985",
                  "Mountain-500 Silver, 42",
                  "Mountain Bikes",
                  "564.9900"
                ],
                [
                  "986",
                  "Mountain-500 Silver, 44",
                  "Mountain Bikes",
                  "564.9900"
                ],
                [
                  "987",
                  "Mountain-500 Silver, 48",
                  "Mountain Bikes",
                  "564.9900"
                ],
                [
                  "988",
                  "Mountain-500 Silver, 52",
                  "Mountain Bikes",
                  "564.9900"
                ],
                [
                  "989",
                  "Mountain-500 Black, 40",
                  "Mountain Bikes",
                  "539.9900"
                ],
                [
                  "990",
                  "Mountain-500 Black, 42",
                  "Mountain Bikes",
                  "539.9900"
                ],
                [
                  "991",
                  "Mountain-500 Black, 44",
                  "Mountain Bikes",
                  "539.9900"
                ],
                [
                  "992",
                  "Mountain-500 Black, 48",
                  "Mountain Bikes",
                  "539.9900"
                ],
                [
                  "993",
                  "Mountain-500 Black, 52",
                  "Mountain Bikes",
                  "539.9900"
                ],
                [
                  "973",
                  "Road-350-W Yellow, 40",
                  "Road Bikes",
                  "1700.9900"
                ],
                [
                  "974",
                  "Road-350-W Yellow, 42",
                  "Road Bikes",
                  "1700.9900"
                ],
                [
                  "975",
                  "Road-350-W Yellow, 44",
                  "Road Bikes",
                  "1700.9900"
                ],
                [
                  "976",
                  "Road-350-W Yellow, 48",
                  "Road Bikes",
                  "1700.9900"
                ],
                [
                  "977",
                  "Road-750 Black, 58",
                  "Road Bikes",
                  "539.9900"
                ],
                [
                  "997",
                  "Road-750 Black, 44",
                  "Road Bikes",
                  "539.9900"
                ],
                [
                  "998",
                  "Road-750 Black, 48",
                  "Road Bikes",
                  "539.9900"
                ],
                [
                  "999",
                  "Road-750 Black, 52",
                  "Road Bikes",
                  "539.9900"
                ],
                [
                  "789",
                  "Road-250 Red, 44",
                  "Road Bikes",
                  "2443.3500"
                ],
                [
                  "790",
                  "Road-250 Red, 48",
                  "Road Bikes",
                  "2443.3500"
                ],
                [
                  "791",
                  "Road-250 Red, 52",
                  "Road Bikes",
                  "2443.3500"
                ],
                [
                  "792",
                  "Road-250 Red, 58",
                  "Road Bikes",
                  "2443.3500"
                ],
                [
                  "793",
                  "Road-250 Black, 44",
                  "Road Bikes",
                  "2443.3500"
                ],
                [
                  "794",
                  "Road-250 Black, 48",
                  "Road Bikes",
                  "2443.3500"
                ],
                [
                  "795",
                  "Road-250 Black, 52",
                  "Road Bikes",
                  "2443.3500"
                ],
                [
                  "796",
                  "Road-250 Black, 58",
                  "Road Bikes",
                  "2443.3500"
                ],
                [
                  "797",
                  "Road-550-W Yellow, 38",
                  "Road Bikes",
                  "1120.4900"
                ],
                [
                  "798",
                  "Road-550-W Yellow, 40",
                  "Road Bikes",
                  "1120.4900"
                ],
                [
                  "799",
                  "Road-550-W Yellow, 42",
                  "Road Bikes",
                  "1120.4900"
                ],
                [
                  "800",
                  "Road-550-W Yellow, 44",
                  "Road Bikes",
                  "1120.4900"
                ],
                [
                  "801",
                  "Road-550-W Yellow, 48",
                  "Road Bikes",
                  "1120.4900"
                ],
                [
                  "749",
                  "Road-150 Red, 62",
                  "Road Bikes",
                  "3578.2700"
                ],
                [
                  "750",
                  "Road-150 Red, 44",
                  "Road Bikes",
                  "3578.2700"
                ],
                [
                  "751",
                  "Road-150 Red, 48",
                  "Road Bikes",
                  "3578.2700"
                ],
                [
                  "752",
                  "Road-150 Red, 52",
                  "Road Bikes",
                  "3578.2700"
                ],
                [
                  "753",
                  "Road-150 Red, 56",
                  "Road Bikes",
                  "3578.2700"
                ],
                [
                  "754",
                  "Road-450 Red, 58",
                  "Road Bikes",
                  "1457.9900"
                ],
                [
                  "755",
                  "Road-450 Red, 60",
                  "Road Bikes",
                  "1457.9900"
                ],
                [
                  "756",
                  "Road-450 Red, 44",
                  "Road Bikes",
                  "1457.9900"
                ],
                [
                  "757",
                  "Road-450 Red, 48",
                  "Road Bikes",
                  "1457.9900"
                ],
                [
                  "758",
                  "Road-450 Red, 52",
                  "Road Bikes",
                  "1457.9900"
                ],
                [
                  "759",
                  "Road-650 Red, 58",
                  "Road Bikes",
                  "782.9900"
                ],
                [
                  "760",
                  "Road-650 Red, 60",
                  "Road Bikes",
                  "782.9900"
                ],
                [
                  "761",
                  "Road-650 Red, 62",
                  "Road Bikes",
                  "782.9900"
                ],
                [
                  "762",
                  "Road-650 Red, 44",
                  "Road Bikes",
                  "782.9900"
                ],
                [
                  "763",
                  "Road-650 Red, 48",
                  "Road Bikes",
                  "782.9900"
                ],
                [
                  "764",
                  "Road-650 Red, 52",
                  "Road Bikes",
                  "782.9900"
                ],
                [
                  "765",
                  "Road-650 Black, 58",
                  "Road Bikes",
                  "782.9900"
                ],
                [
                  "766",
                  "Road-650 Black, 60",
                  "Road Bikes",
                  "782.9900"
                ],
                [
                  "767",
                  "Road-650 Black, 62",
                  "Road Bikes",
                  "782.9900"
                ],
                [
                  "768",
                  "Road-650 Black, 44",
                  "Road Bikes",
                  "782.9900"
                ],
                [
                  "769",
                  "Road-650 Black, 48",
                  "Road Bikes",
                  "782.9900"
                ],
                [
                  "770",
                  "Road-650 Black, 52",
                  "Road Bikes",
                  "782.9900"
                ],
                [
                  "978",
                  "Touring-3000 Blue, 44",
                  "Touring Bikes",
                  "742.3500"
                ],
                [
                  "979",
                  "Touring-3000 Blue, 50",
                  "Touring Bikes",
                  "742.3500"
                ],
                [
                  "953",
                  "Touring-2000 Blue, 60",
                  "Touring Bikes",
                  "1214.8500"
                ],
                [
                  "954",
                  "Touring-1000 Yellow, 46",
                  "Touring Bikes",
                  "2384.0700"
                ],
                [
                  "955",
                  "Touring-1000 Yellow, 50",
                  "Touring Bikes",
                  "2384.0700"
                ],
                [
                  "956",
                  "Touring-1000 Yellow, 54",
                  "Touring Bikes",
                  "2384.0700"
                ],
                [
                  "957",
                  "Touring-1000 Yellow, 60",
                  "Touring Bikes",
                  "2384.0700"
                ],
                [
                  "958",
                  "Touring-3000 Blue, 54",
                  "Touring Bikes",
                  "742.3500"
                ],
                [
                  "959",
                  "Touring-3000 Blue, 58",
                  "Touring Bikes",
                  "742.3500"
                ],
                [
                  "960",
                  "Touring-3000 Blue, 62",
                  "Touring Bikes",
                  "742.3500"
                ],
                [
                  "961",
                  "Touring-3000 Yellow, 44",
                  "Touring Bikes",
                  "742.3500"
                ],
                [
                  "962",
                  "Touring-3000 Yellow, 50",
                  "Touring Bikes",
                  "742.3500"
                ],
                [
                  "963",
                  "Touring-3000 Yellow, 54",
                  "Touring Bikes",
                  "742.3500"
                ],
                [
                  "964",
                  "Touring-3000 Yellow, 58",
                  "Touring Bikes",
                  "742.3500"
                ],
                [
                  "965",
                  "Touring-3000 Yellow, 62",
                  "Touring Bikes",
                  "742.3500"
                ],
                [
                  "966",
                  "Touring-1000 Blue, 46",
                  "Touring Bikes",
                  "2384.0700"
                ],
                [
                  "967",
                  "Touring-1000 Blue, 50",
                  "Touring Bikes",
                  "2384.0700"
                ],
                [
                  "968",
                  "Touring-1000 Blue, 54",
                  "Touring Bikes",
                  "2384.0700"
                ],
                [
                  "969",
                  "Touring-1000 Blue, 60",
                  "Touring Bikes",
                  "2384.0700"
                ],
                [
                  "970",
                  "Touring-2000 Blue, 46",
                  "Touring Bikes",
                  "1214.8500"
                ],
                [
                  "971",
                  "Touring-2000 Blue, 50",
                  "Touring Bikes",
                  "1214.8500"
                ],
                [
                  "972",
                  "Touring-2000 Blue, 54",
                  "Touring Bikes",
                  "1214.8500"
                ],
                [
                  "946",
                  "LL Touring Handlebars",
                  "Handlebars",
                  "46.0900"
                ],
                [
                  "947",
                  "HL Touring Handlebars",
                  "Handlebars",
                  "91.5700"
                ],
                [
                  "808",
                  "LL Mountain Handlebars",
                  "Handlebars",
                  "44.5400"
                ],
                [
                  "809",
                  "ML Mountain Handlebars",
                  "Handlebars",
                  "61.9200"
                ],
                [
                  "810",
                  "HL Mountain Handlebars",
                  "Handlebars",
                  "120.2700"
                ],
                [
                  "811",
                  "LL Road Handlebars",
                  "Handlebars",
                  "44.5400"
                ],
                [
                  "812",
                  "ML Road Handlebars",
                  "Handlebars",
                  "61.9200"
                ],
                [
                  "813",
                  "HL Road Handlebars",
                  "Handlebars",
                  "120.2700"
                ],
                [
                  "994",
                  "LL Bottom Bracket",
                  "Bottom Brackets",
                  "53.9900"
                ],
                [
                  "995",
                  "ML Bottom Bracket",
                  "Bottom Brackets",
                  "101.2400"
                ],
                [
                  "996",
                  "HL Bottom Bracket",
                  "Bottom Brackets",
                  "121.4900"
                ],
                [
                  "948",
                  "Front Brakes",
                  "Brakes",
                  "106.5000"
                ],
                [
                  "907",
                  "Rear Brakes",
                  "Brakes",
                  "106.5000"
                ],
                [
                  "952",
                  "Chain",
                  "Chains",
                  "20.2400"
                ],
                [
                  "949",
                  "LL Crankset",
                  "Cranksets",
                  "175.4900"
                ],
                [
                  "950",
                  "ML Crankset",
                  "Cranksets",
                  "256.4900"
                ],
                [
                  "951",
                  "HL Crankset",
                  "Cranksets",
                  "404.9900"
                ],
                [
                  "945",
                  "Front Derailleur",
                  "Derailleurs",
                  "91.4900"
                ],
                [
                  "894",
                  "Rear Derailleur",
                  "Derailleurs",
                  "121.4600"
                ],
                [
                  "802",
                  "LL Fork",
                  "Forks",
                  "148.2200"
                ],
                [
                  "803",
                  "ML Fork",
                  "Forks",
                  "175.4900"
                ],
                [
                  "804",
                  "HL Fork",
                  "Forks",
                  "229.4900"
                ],
                [
                  "805",
                  "LL Headset",
                  "Headsets",
                  "34.2000"
                ],
                [
                  "806",
                  "ML Headset",
                  "Headsets",
                  "102.2900"
                ],
                [
                  "807",
                  "HL Headset",
                  "Headsets",
                  "124.7300"
                ],
                [
                  "739",
                  "HL Mountain Frame - Silver, 42",
                  "Mountain Frames",
                  "1364.5000"
                ],
                [
                  "740",
                  "HL Mountain Frame - Silver, 44",
                  "Mountain Frames",
                  "1364.5000"
                ],
                [
                  "741",
                  "HL Mountain Frame - Silver, 48",
                  "Mountain Frames",
                  "1364.5000"
                ],
                [
                  "742",
                  "HL Mountain Frame - Silver, 46",
                  "Mountain Frames",
                  "1364.5000"
                ],
                [
                  "743",
                  "HL Mountain Frame - Black, 42",
                  "Mountain Frames",
                  "1349.6000"
                ],
                [
                  "744",
                  "HL Mountain Frame - Black, 44",
                  "Mountain Frames",
                  "1349.6000"
                ],
                [
                  "745",
                  "HL Mountain Frame - Black, 48",
                  "Mountain Frames",
                  "1349.6000"
                ],
                [
                  "746",
                  "HL Mountain Frame - Black, 46",
                  "Mountain Frames",
                  "1349.6000"
                ],
                [
                  "747",
                  "HL Mountain Frame - Black, 38",
                  "Mountain Frames",
                  "1349.6000"
                ],
                [
                  "748",
                  "HL Mountain Frame - Silver, 38",
                  "Mountain Frames",
                  "1364.5000"
                ],
                [
                  "814",
                  "ML Mountain Frame - Black, 38",
                  "Mountain Frames",
                  "348.7600"
                ],
                [
                  "830",
                  "ML Mountain Frame - Black, 40",
                  "Mountain Frames",
                  "348.7600"
                ],
                [
                  "831",
                  "ML Mountain Frame - Black, 44",
                  "Mountain Frames",
                  "348.7600"
                ],
                [
                  "832",
                  "ML Mountain Frame - Black, 48",
                  "Mountain Frames",
                  "348.7600"
                ],
                [
                  "924",
                  "LL Mountain Frame - Black, 42",
                  "Mountain Frames",
                  "249.7900"
                ],
                [
                  "925",
                  "LL Mountain Frame - Black, 44",
                  "Mountain Frames",
                  "249.7900"
                ],
                [
                  "926",
                  "LL Mountain Frame - Black, 48",
                  "Mountain Frames",
                  "249.7900"
                ],
                [
                  "927",
                  "LL Mountain Frame - Black, 52",
                  "Mountain Frames",
                  "249.7900"
                ],
                [
                  "917",
                  "LL Mountain Frame - Silver, 42",
                  "Mountain Frames",
                  "264.0500"
                ],
                [
                  "918",
                  "LL Mountain Frame - Silver, 44",
                  "Mountain Frames",
                  "264.0500"
                ],
                [
                  "919",
                  "LL Mountain Frame - Silver, 48",
                  "Mountain Frames",
                  "264.0500"
                ],
                [
                  "920",
                  "LL Mountain Frame - Silver, 52",
                  "Mountain Frames",
                  "264.0500"
                ],
                [
                  "904",
                  "ML Mountain Frame-W - Silver, 40",
                  "Mountain Frames",
                  "364.0900"
                ],
                [
                  "905",
                  "ML Mountain Frame-W - Silver, 42",
                  "Mountain Frames",
                  "364.0900"
                ],
                [
                  "906",
                  "ML Mountain Frame-W - Silver, 46",
                  "Mountain Frames",
                  "364.0900"
                ],
                [
                  "942",
                  "ML Mountain Frame-W - Silver, 38",
                  "Mountain Frames",
                  "364.0900"
                ],
                [
                  "943",
                  "LL Mountain Frame - Black, 40",
                  "Mountain Frames",
                  "249.7900"
                ],
                [
                  "944",
                  "LL Mountain Frame - Silver, 40",
                  "Mountain Frames",
                  "264.0500"
                ],
                [
                  "935",
                  "LL Mountain Pedal",
                  "Pedals",
                  "40.4900"
                ],
                [
                  "936",
                  "ML Mountain Pedal",
                  "Pedals",
                  "62.0900"
                ],
                [
                  "937",
                  "HL Mountain Pedal",
                  "Pedals",
                  "80.9900"
                ],
                [
                  "938",
                  "LL Road Pedal",
                  "Pedals",
                  "40.4900"
                ],
                [
                  "939",
                  "ML Road Pedal",
                  "Pedals",
                  "62.0900"
                ],
                [
                  "940",
                  "HL Road Pedal",
                  "Pedals",
                  "80.9900"
                ],
                [
                  "941",
                  "Touring Pedal",
                  "Pedals",
                  "80.9900"
                ],
                [
                  "833",
                  "ML Road Frame-W - Yellow, 40",
                  "Road Frames",
                  "594.8300"
                ],
                [
                  "834",
                  "ML Road Frame-W - Yellow, 42",
                  "Road Frames",
                  "594.8300"
                ],
                [
                  "835",
                  "ML Road Frame-W - Yellow, 44",
                  "Road Frames",
                  "594.8300"
                ],
                [
                  "836",
                  "ML Road Frame-W - Yellow, 48",
                  "Road Frames",
                  "594.8300"
                ],
                [
                  "837",
                  "HL Road Frame - Black, 62",
                  "Road Frames",
                  "1431.5000"
                ],
                [
                  "838",
                  "HL Road Frame - Black, 44",
                  "Road Frames",
                  "1431.5000"
                ],
                [
                  "839",
                  "HL Road Frame - Black, 48",
                  "Road Frames",
                  "1431.5000"
                ],
                [
                  "840",
                  "HL Road Frame - Black, 52",
                  "Road Frames",
                  "1431.5000"
                ],
                [
                  "822",
                  "ML Road Frame-W - Yellow, 38",
                  "Road Frames",
                  "594.8300"
                ],
                [
                  "680",
                  "HL Road Frame - Black, 58",
                  "Road Frames",
                  "1431.5000"
                ],
                [
                  "706",
                  "HL Road Frame - Red, 58",
                  "Road Frames",
                  "1431.5000"
                ],
                [
                  "717",
                  "HL Road Frame - Red, 62",
                  "Road Frames",
                  "1431.5000"
                ],
                [
                  "718",
                  "HL Road Frame - Red, 44",
                  "Road Frames",
                  "1431.5000"
                ],
                [
                  "719",
                  "HL Road Frame - Red, 48",
                  "Road Frames",
                  "1431.5000"
                ],
                [
                  "720",
                  "HL Road Frame - Red, 52",
                  "Road Frames",
                  "1431.5000"
                ],
                [
                  "721",
                  "HL Road Frame - Red, 56",
                  "Road Frames",
                  "1431.5000"
                ],
                [
                  "722",
                  "LL Road Frame - Black, 58",
                  "Road Frames",
                  "337.2200"
                ],
                [
                  "723",
                  "LL Road Frame - Black, 60",
                  "Road Frames",
                  "337.2200"
                ],
                [
                  "724",
                  "LL Road Frame - Black, 62",
                  "Road Frames",
                  "337.2200"
                ],
                [
                  "725",
                  "LL Road Frame - Red, 44",
                  "Road Frames",
                  "337.2200"
                ],
                [
                  "726",
                  "LL Road Frame - Red, 48",
                  "Road Frames",
                  "337.2200"
                ],
                [
                  "727",
                  "LL Road Frame - Red, 52",
                  "Road Frames",
                  "337.2200"
                ],
                [
                  "728",
                  "LL Road Frame - Red, 58",
                  "Road Frames",
                  "337.2200"
                ],
                [
                  "729",
                  "LL Road Frame - Red, 60",
                  "Road Frames",
                  "337.2200"
                ],
                [
                  "730",
                  "LL Road Frame - Red, 62",
                  "Road Frames",
                  "337.2200"
                ],
                [
                  "731",
                  "ML Road Frame - Red, 44",
                  "Road Frames",
                  "594.8300"
                ],
                [
                  "732",
                  "ML Road Frame - Red, 48",
                  "Road Frames",
                  "594.8300"
                ],
                [
                  "733",
                  "ML Road Frame - Red, 52",
                  "Road Frames",
                  "594.8300"
                ],
                [
                  "734",
                  "ML Road Frame - Red, 58",
                  "Road Frames",
                  "594.8300"
                ],
                [
                  "735",
                  "ML Road Frame - Red, 60",
                  "Road Frames",
                  "594.8300"
                ],
                [
                  "736",
                  "LL Road Frame - Black, 44",
                  "Road Frames",
                  "337.2200"
                ],
                [
                  "737",
                  "LL Road Frame - Black, 48",
                  "Road Frames",
                  "337.2200"
                ],
                [
                  "738",
                  "LL Road Frame - Black, 52",
                  "Road Frames",
                  "337.2200"
                ],
                [
                  "908",
                  "LL Mountain Seat/Saddle",
                  "Saddles",
                  "27.1200"
                ],
                [
                  "909",
                  "ML Mountain Seat/Saddle",
                  "Saddles",
                  "39.1400"
                ],
                [
                  "910",
                  "HL Mountain Seat/Saddle",
                  "Saddles",
                  "52.6400"
                ],
                [
                  "911",
                  "LL Road Seat/Saddle",
                  "Saddles",
                  "27.1200"
                ],
                [
                  "912",
                  "ML Road Seat/Saddle",
                  "Saddles",
                  "39.1400"
                ],
                [
                  "913",
                  "HL Road Seat/Saddle",
                  "Saddles",
                  "52.6400"
                ],
                [
                  "914",
                  "LL Touring Seat/Saddle",
                  "Saddles",
                  "27.1200"
                ],
                [
                  "915",
                  "ML Touring Seat/Saddle",
                  "Saddles",
                  "39.1400"
                ],
                [
                  "916",
                  "HL Touring Seat/Saddle",
                  "Saddles",
                  "52.6400"
                ],
                [
                  "895",
                  "LL Touring Frame - Blue, 50",
                  "Touring Frames",
                  "333.4200"
                ],
                [
                  "896",
                  "LL Touring Frame - Blue, 54",
                  "Touring Frames",
                  "333.4200"
                ],
                [
                  "897",
                  "LL Touring Frame - Blue, 58",
                  "Touring Frames",
                  "333.4200"
                ],
                [
                  "898",
                  "LL Touring Frame - Blue, 62",
                  "Touring Frames",
                  "333.4200"
                ],
                [
                  "899",
                  "LL Touring Frame - Yellow, 44",
                  "Touring Frames",
                  "333.4200"
                ],
                [
                  "900",
                  "LL Touring Frame - Yellow, 50",
                  "Touring Frames",
                  "333.4200"
                ],
                [
                  "901",
                  "LL Touring Frame - Yellow, 54",
                  "Touring Frames",
                  "333.4200"
                ],
                [
                  "902",
                  "LL Touring Frame - Yellow, 58",
                  "Touring Frames",
                  "333.4200"
                ],
                [
                  "903",
                  "LL Touring Frame - Blue, 44",
                  "Touring Frames",
                  "333.4200"
                ],
                [
                  "885",
                  "HL Touring Frame - Yellow, 60",
                  "Touring Frames",
                  "1003.9100"
                ],
                [
                  "886",
                  "LL Touring Frame - Yellow, 62",
                  "Touring Frames",
                  "333.4200"
                ],
                [
                  "887",
                  "HL Touring Frame - Yellow, 46",
                  "Touring Frames",
                  "1003.9100"
                ],
                [
                  "888",
                  "HL Touring Frame - Yellow, 50",
                  "Touring Frames",
                  "1003.9100"
                ],
                [
                  "889",
                  "HL Touring Frame - Yellow, 54",
                  "Touring Frames",
                  "1003.9100"
                ],
                [
                  "890",
                  "HL Touring Frame - Blue, 46",
                  "Touring Frames",
                  "1003.9100"
                ],
                [
                  "891",
                  "HL Touring Frame - Blue, 50",
                  "Touring Frames",
                  "1003.9100"
                ],
                [
                  "892",
                  "HL Touring Frame - Blue, 54",
                  "Touring Frames",
                  "1003.9100"
                ],
                [
                  "893",
                  "HL Touring Frame - Blue, 60",
                  "Touring Frames",
                  "1003.9100"
                ],
                [
                  "823",
                  "LL Mountain Rear Wheel",
                  "Wheels",
                  "87.7450"
                ],
                [
                  "824",
                  "ML Mountain Rear Wheel",
                  "Wheels",
                  "236.0250"
                ],
                [
                  "825",
                  "HL Mountain Rear Wheel",
                  "Wheels",
                  "327.2150"
                ],
                [
                  "826",
                  "LL Road Rear Wheel",
                  "Wheels",
                  "112.5650"
                ],
                [
                  "827",
                  "ML Road Rear Wheel",
                  "Wheels",
                  "275.3850"
                ],
                [
                  "828",
                  "HL Road Rear Wheel",
                  "Wheels",
                  "357.0600"
                ],
                [
                  "829",
                  "Touring Rear Wheel",
                  "Wheels",
                  "245.0100"
                ],
                [
                  "815",
                  "LL Mountain Front Wheel",
                  "Wheels",
                  "60.7450"
                ],
                [
                  "816",
                  "ML Mountain Front Wheel",
                  "Wheels",
                  "209.0250"
                ],
                [
                  "817",
                  "HL Mountain Front Wheel",
                  "Wheels",
                  "300.2150"
                ],
                [
                  "818",
                  "LL Road Front Wheel",
                  "Wheels",
                  "85.5650"
                ],
                [
                  "819",
                  "ML Road Front Wheel",
                  "Wheels",
                  "248.3850"
                ],
                [
                  "820",
                  "HL Road Front Wheel",
                  "Wheels",
                  "330.0600"
                ],
                [
                  "821",
                  "Touring Front Wheel",
                  "Wheels",
                  "218.0100"
                ],
                [
                  "855",
                  "Men's Bib-Shorts, S",
                  "Bib-Shorts",
                  "89.9900"
                ],
                [
                  "856",
                  "Men's Bib-Shorts, M",
                  "Bib-Shorts",
                  "89.9900"
                ],
                [
                  "857",
                  "Men's Bib-Shorts, L",
                  "Bib-Shorts",
                  "89.9900"
                ],
                [
                  "712",
                  "AWC Logo Cap",
                  "Caps",
                  "8.9900"
                ],
                [
                  "858",
                  "Half-Finger Gloves, S",
                  "Gloves",
                  "24.4900"
                ],
                [
                  "859",
                  "Half-Finger Gloves, M",
                  "Gloves",
                  "24.4900"
                ],
                [
                  "860",
                  "Half-Finger Gloves, L",
                  "Gloves",
                  "24.4900"
                ],
                [
                  "861",
                  "Full-Finger Gloves, S",
                  "Gloves",
                  "37.9900"
                ],
                [
                  "862",
                  "Full-Finger Gloves, M",
                  "Gloves",
                  "37.9900"
                ],
                [
                  "863",
                  "Full-Finger Gloves, L",
                  "Gloves",
                  "37.9900"
                ],
                [
                  "713",
                  "Long-Sleeve Logo Jersey, S",
                  "Jerseys",
                  "49.9900"
                ],
                [
                  "714",
                  "Long-Sleeve Logo Jersey, M",
                  "Jerseys",
                  "49.9900"
                ],
                [
                  "715",
                  "Long-Sleeve Logo Jersey, L",
                  "Jerseys",
                  "49.9900"
                ],
                [
                  "716",
                  "Long-Sleeve Logo Jersey, XL",
                  "Jerseys",
                  "49.9900"
                ],
                [
                  "881",
                  "Short-Sleeve Classic Jersey, S",
                  "Jerseys",
                  "53.9900"
                ],
                [
                  "882",
                  "Short-Sleeve Classic Jersey, M",
                  "Jerseys",
                  "53.9900"
                ],
                [
                  "883",
                  "Short-Sleeve Classic Jersey, L",
                  "Jerseys",
                  "53.9900"
                ],
                [
                  "884",
                  "Short-Sleeve Classic Jersey, XL",
                  "Jerseys",
                  "53.9900"
                ],
                [
                  "867",
                  "Women's Mountain Shorts, S",
                  "Shorts",
                  "69.9900"
                ],
                [
                  "868",
                  "Women's Mountain Shorts, M",
                  "Shorts",
                  "69.9900"
                ],
                [
                  "869",
                  "Women's Mountain Shorts, L",
                  "Shorts",
                  "69.9900"
                ],
                [
                  "841",
                  "Men's Sports Shorts, S",
                  "Shorts",
                  "59.9900"
                ],
                [
                  "849",
                  "Men's Sports Shorts, M",
                  "Shorts",
                  "59.9900"
                ],
                [
                  "850",
                  "Men's Sports Shorts, L",
                  "Shorts",
                  "59.9900"
                ],
                [
                  "851",
                  "Men's Sports Shorts, XL",
                  "Shorts",
                  "59.9900"
                ],
                [
                  "709",
                  "Mountain Bike Socks, M",
                  "Socks",
                  "9.5000"
                ],
                [
                  "710",
                  "Mountain Bike Socks, L",
                  "Socks",
                  "9.5000"
                ],
                [
                  "874",
                  "Racing Socks, M",
                  "Socks",
                  "8.9900"
                ],
                [
                  "875",
                  "Racing Socks, L",
                  "Socks",
                  "8.9900"
                ],
                [
                  "852",
                  "Women's Tights, S",
                  "Tights",
                  "74.9900"
                ],
                [
                  "853",
                  "Women's Tights, M",
                  "Tights",
                  "74.9900"
                ],
                [
                  "854",
                  "Women's Tights, L",
                  "Tights",
                  "74.9900"
                ],
                [
                  "864",
                  "Classic Vest, S",
                  "Vests",
                  "63.5000"
                ],
                [
                  "865",
                  "Classic Vest, M",
                  "Vests",
                  "63.5000"
                ],
                [
                  "866",
                  "Classic Vest, L",
                  "Vests",
                  "63.5000"
                ],
                [
                  "876",
                  "Hitch Rack - 4-Bike",
                  "Bike Racks",
                  "120.0000"
                ],
                [
                  "879",
                  "All-Purpose Bike Stand",
                  "Bike Stands",
                  "159.0000"
                ],
                [
                  "870",
                  "Water Bottle - 30 oz.",
                  "Bottles and Cages",
                  "4.9900"
                ],
                [
                  "871",
                  "Mountain Bottle Cage",
                  "Bottles and Cages",
                  "9.9900"
                ],
                [
                  "872",
                  "Road Bottle Cage",
                  "Bottles and Cages",
                  "8.9900"
                ],
                [
                  "877",
                  "Bike Wash - Dissolver",
                  "Cleaners",
                  "7.9500"
                ],
                [
                  "878",
                  "Fender Set - Mountain",
                  "Fenders",
                  "21.9800"
                ],
                [
                  "711",
                  "Sport-100 Helmet, Blue",
                  "Helmets",
                  "34.9900"
                ],
                [
                  "707",
                  "Sport-100 Helmet, Red",
                  "Helmets",
                  "34.9900"
                ],
                [
                  "708",
                  "Sport-100 Helmet, Black",
                  "Helmets",
                  "34.9900"
                ],
                [
                  "880",
                  "Hydration Pack - 70 oz.",
                  "Hydration Packs",
                  "54.9900"
                ],
                [
                  "846",
                  "Taillights - Battery-Powered",
                  "Lights",
                  "13.9900"
                ],
                [
                  "847",
                  "Headlights - Dual-Beam",
                  "Lights",
                  "34.9900"
                ],
                [
                  "848",
                  "Headlights - Weatherproof",
                  "Lights",
                  "44.9900"
                ],
                [
                  "843",
                  "Cable Lock",
                  "Locks",
                  "25.0000"
                ],
                [
                  "842",
                  "Touring-Panniers, Large",
                  "Panniers",
                  "125.0000"
                ],
                [
                  "844",
                  "Minipump",
                  "Pumps",
                  "19.9900"
                ],
                [
                  "845",
                  "Mountain Pump",
                  "Pumps",
                  "24.9900"
                ],
                [
                  "873",
                  "Patch Kit/8 Patches",
                  "Tires and Tubes",
                  "2.2900"
                ],
                [
                  "921",
                  "Mountain Tire Tube",
                  "Tires and Tubes",
                  "4.9900"
                ],
                [
                  "922",
                  "Road Tire Tube",
                  "Tires and Tubes",
                  "3.9900"
                ],
                [
                  "923",
                  "Touring Tire Tube",
                  "Tires and Tubes",
                  "4.9900"
                ],
                [
                  "928",
                  "LL Mountain Tire",
                  "Tires and Tubes",
                  "24.9900"
                ],
                [
                  "929",
                  "ML Mountain Tire",
                  "Tires and Tubes",
                  "29.9900"
                ],
                [
                  "930",
                  "HL Mountain Tire",
                  "Tires and Tubes",
                  "35.0000"
                ],
                [
                  "931",
                  "LL Road Tire",
                  "Tires and Tubes",
                  "21.4900"
                ],
                [
                  "932",
                  "ML Road Tire",
                  "Tires and Tubes",
                  "24.9900"
                ],
                [
                  "933",
                  "HL Road Tire",
                  "Tires and Tubes",
                  "32.6000"
                ],
                [
                  "934",
                  "Touring Tire",
                  "Tires and Tubes",
                  "28.9900"
                ]
              ]
            },
            "text/plain": "<Spark SQL result set with 295 rows and 4 fields>"
          },
          "metadata": {}
        }
      ],
      "execution_count": 14,
      "metadata": {
        "jupyter": {
          "source_hidden": false,
          "outputs_hidden": false
        },
        "nteract": {
          "transient": {
            "deleting": false
          }
        },
        "microsoft": {
          "language": "sparksql"
        },
        "collapsed": false
      }
    },
    {
      "cell_type": "code",
      "source": [
        " from notebookutils import mssparkutils\r\n",
        " from pyspark.sql.types import *\r\n",
        " from pyspark.sql.functions import *\r\n",
        "\r\n",
        " # Create a folder\r\n",
        " inputPath = '/data/'\r\n",
        " mssparkutils.fs.mkdirs(inputPath)\r\n",
        "\r\n",
        " # Create a stream that reads data from the folder, using a JSON schema\r\n",
        " jsonSchema = StructType([\r\n",
        " StructField(\"device\", StringType(), False),\r\n",
        " StructField(\"status\", StringType(), False)\r\n",
        " ])\r\n",
        " iotstream = spark.readStream.schema(jsonSchema).option(\"maxFilesPerTrigger\", 1).json(inputPath)\r\n",
        "\r\n",
        " # Write some event data to the folder\r\n",
        " device_data = '''{\"device\":\"Dev1\",\"status\":\"ok\"}\r\n",
        " {\"device\":\"Dev1\",\"status\":\"ok\"}\r\n",
        " {\"device\":\"Dev1\",\"status\":\"ok\"}\r\n",
        " {\"device\":\"Dev2\",\"status\":\"error\"}\r\n",
        " {\"device\":\"Dev1\",\"status\":\"ok\"}\r\n",
        " {\"device\":\"Dev1\",\"status\":\"error\"}\r\n",
        " {\"device\":\"Dev2\",\"status\":\"ok\"}\r\n",
        " {\"device\":\"Dev2\",\"status\":\"error\"}\r\n",
        " {\"device\":\"Dev1\",\"status\":\"ok\"}'''\r\n",
        " mssparkutils.fs.put(inputPath + \"data.txt\", device_data, True)\r\n",
        " print(\"Source stream created...\")"
      ],
      "outputs": [
        {
          "output_type": "display_data",
          "data": {
            "application/vnd.livy.statement-meta+json": {
              "spark_pool": "spark5bdznl9",
              "session_id": "0",
              "statement_id": 23,
              "state": "finished",
              "livy_statement_state": "available",
              "queued_time": "2023-10-28T02:05:01.7186417Z",
              "session_start_time": null,
              "execution_start_time": "2023-10-28T02:05:01.8399482Z",
              "execution_finish_time": "2023-10-28T02:05:02.3827782Z",
              "spark_jobs": null,
              "parent_msg_id": "87ea68a6-0cb3-49c0-8b77-ca9989459a2d"
            },
            "text/plain": "StatementMeta(spark5bdznl9, 0, 23, Finished, Available)"
          },
          "metadata": {}
        },
        {
          "output_type": "stream",
          "name": "stdout",
          "text": [
            "Source stream created...\n"
          ]
        }
      ],
      "execution_count": 15,
      "metadata": {
        "jupyter": {
          "source_hidden": false,
          "outputs_hidden": false
        },
        "nteract": {
          "transient": {
            "deleting": false
          }
        }
      }
    },
    {
      "cell_type": "code",
      "source": [
        " # Write the stream to a delta table\r\n",
        " delta_stream_table_path = '/delta/iotdevicedata'\r\n",
        " checkpointpath = '/delta/checkpoint'\r\n",
        " deltastream = iotstream.writeStream.format(\"delta\").option(\"checkpointLocation\", checkpointpath).start(delta_stream_table_path)\r\n",
        " print(\"Streaming to delta sink...\")"
      ],
      "outputs": [
        {
          "output_type": "display_data",
          "data": {
            "application/vnd.livy.statement-meta+json": {
              "spark_pool": "spark5bdznl9",
              "session_id": "0",
              "statement_id": 24,
              "state": "finished",
              "livy_statement_state": "available",
              "queued_time": "2023-10-28T02:06:14.8066427Z",
              "session_start_time": null,
              "execution_start_time": "2023-10-28T02:06:14.9317298Z",
              "execution_finish_time": "2023-10-28T02:06:16.0639997Z",
              "spark_jobs": null,
              "parent_msg_id": "6430e274-95c2-4e1e-8e0e-2fd233b591a5"
            },
            "text/plain": "StatementMeta(spark5bdznl9, 0, 24, Finished, Available)"
          },
          "metadata": {}
        },
        {
          "output_type": "stream",
          "name": "stdout",
          "text": [
            "Streaming to delta sink...\n"
          ]
        }
      ],
      "execution_count": 16,
      "metadata": {
        "jupyter": {
          "source_hidden": false,
          "outputs_hidden": false
        },
        "nteract": {
          "transient": {
            "deleting": false
          }
        }
      }
    },
    {
      "cell_type": "code",
      "source": [
        " # Read the data in delta format into a dataframe\r\n",
        " df = spark.read.format(\"delta\").load(delta_stream_table_path)\r\n",
        " display(df)"
      ],
      "outputs": [
        {
          "output_type": "display_data",
          "data": {
            "application/vnd.livy.statement-meta+json": {
              "spark_pool": "spark5bdznl9",
              "session_id": "0",
              "statement_id": 25,
              "state": "finished",
              "livy_statement_state": "available",
              "queued_time": "2023-10-28T02:06:28.1111908Z",
              "session_start_time": null,
              "execution_start_time": "2023-10-28T02:06:28.2378541Z",
              "execution_finish_time": "2023-10-28T02:06:30.1808086Z",
              "spark_jobs": null,
              "parent_msg_id": "0f061c94-582d-4ee9-bbd2-5cba0d375b46"
            },
            "text/plain": "StatementMeta(spark5bdznl9, 0, 25, Finished, Available)"
          },
          "metadata": {}
        },
        {
          "output_type": "display_data",
          "data": {
            "application/vnd.synapse.widget-view+json": {
              "widget_id": "bf2e2be3-6a18-4da5-9da9-cad63fecdcac",
              "widget_type": "Synapse.DataFrame"
            },
            "text/plain": "SynapseWidget(Synapse.DataFrame, bf2e2be3-6a18-4da5-9da9-cad63fecdcac)"
          },
          "metadata": {}
        }
      ],
      "execution_count": 17,
      "metadata": {
        "jupyter": {
          "source_hidden": false,
          "outputs_hidden": false
        },
        "nteract": {
          "transient": {
            "deleting": false
          }
        },
        "collapsed": false
      }
    },
    {
      "cell_type": "code",
      "source": [
        " # create a catalog table based on the streaming sink\r\n",
        " spark.sql(\"CREATE TABLE IotDeviceData USING DELTA LOCATION '{0}'\".format(delta_stream_table_path))"
      ],
      "outputs": [
        {
          "output_type": "display_data",
          "data": {
            "application/vnd.livy.statement-meta+json": {
              "spark_pool": "spark5bdznl9",
              "session_id": "0",
              "statement_id": 27,
              "state": "finished",
              "livy_statement_state": "available",
              "queued_time": "2023-10-28T02:08:17.9514141Z",
              "session_start_time": null,
              "execution_start_time": "2023-10-28T02:08:18.0664944Z",
              "execution_finish_time": "2023-10-28T02:08:20.8963351Z",
              "spark_jobs": null,
              "parent_msg_id": "2643f824-6cd6-4ec6-addb-3403d3550c45"
            },
            "text/plain": "StatementMeta(spark5bdznl9, 0, 27, Finished, Available)"
          },
          "metadata": {}
        },
        {
          "output_type": "execute_result",
          "execution_count": 27,
          "data": {
            "text/plain": "DataFrame[]"
          },
          "metadata": {}
        }
      ],
      "execution_count": 19,
      "metadata": {
        "jupyter": {
          "source_hidden": false,
          "outputs_hidden": false
        },
        "nteract": {
          "transient": {
            "deleting": false
          }
        },
        "microsoft": {}
      }
    },
    {
      "cell_type": "code",
      "source": [
        " %%sql\r\n",
        "\r\n",
        " SELECT * FROM IotDeviceData;"
      ],
      "outputs": [
        {
          "output_type": "display_data",
          "data": {
            "application/vnd.livy.statement-meta+json": {
              "spark_pool": "spark5bdznl9",
              "session_id": "0",
              "statement_id": 28,
              "state": "finished",
              "livy_statement_state": "available",
              "queued_time": "2023-10-28T02:08:40.6468692Z",
              "session_start_time": null,
              "execution_start_time": "2023-10-28T02:08:40.7930921Z",
              "execution_finish_time": "2023-10-28T02:08:42.6404343Z",
              "spark_jobs": null,
              "parent_msg_id": "772e8587-5c04-4e7e-9850-3113ef4ae8d5"
            },
            "text/plain": "StatementMeta(spark5bdznl9, 0, 28, Finished, Available)"
          },
          "metadata": {}
        },
        {
          "output_type": "execute_result",
          "execution_count": 20,
          "data": {
            "application/vnd.synapse.sparksql-result+json": {
              "schema": {
                "type": "struct",
                "fields": [
                  {
                    "name": "device",
                    "type": "string",
                    "nullable": true,
                    "metadata": {}
                  },
                  {
                    "name": "status",
                    "type": "string",
                    "nullable": true,
                    "metadata": {}
                  }
                ]
              },
              "data": [
                [
                  "Dev1",
                  "ok"
                ],
                [
                  "Dev1",
                  "ok"
                ],
                [
                  "Dev1",
                  "ok"
                ],
                [
                  "Dev2",
                  "error"
                ],
                [
                  "Dev1",
                  "ok"
                ],
                [
                  "Dev1",
                  "error"
                ],
                [
                  "Dev2",
                  "ok"
                ],
                [
                  "Dev2",
                  "error"
                ],
                [
                  "Dev1",
                  "ok"
                ]
              ]
            },
            "text/plain": "<Spark SQL result set with 9 rows and 2 fields>"
          },
          "metadata": {}
        }
      ],
      "execution_count": 20,
      "metadata": {
        "jupyter": {
          "source_hidden": false,
          "outputs_hidden": false
        },
        "nteract": {
          "transient": {
            "deleting": false
          }
        },
        "microsoft": {
          "language": "sparksql"
        },
        "collapsed": false
      }
    },
    {
      "cell_type": "code",
      "source": [
        " # Add more data to the source stream\r\n",
        " more_data = '''{\"device\":\"Dev1\",\"status\":\"ok\"}\r\n",
        " {\"device\":\"Dev1\",\"status\":\"ok\"}\r\n",
        " {\"device\":\"Dev1\",\"status\":\"ok\"}\r\n",
        " {\"device\":\"Dev1\",\"status\":\"ok\"}\r\n",
        " {\"device\":\"Dev1\",\"status\":\"error\"}\r\n",
        " {\"device\":\"Dev2\",\"status\":\"error\"}\r\n",
        " {\"device\":\"Dev1\",\"status\":\"ok\"}'''\r\n",
        "\r\n",
        " mssparkutils.fs.put(inputPath + \"more-data.txt\", more_data, True)"
      ],
      "outputs": [
        {
          "output_type": "display_data",
          "data": {
            "application/vnd.livy.statement-meta+json": {
              "spark_pool": "spark5bdznl9",
              "session_id": "0",
              "statement_id": 29,
              "state": "finished",
              "livy_statement_state": "available",
              "queued_time": "2023-10-28T02:09:04.4607411Z",
              "session_start_time": null,
              "execution_start_time": "2023-10-28T02:09:04.5794091Z",
              "execution_finish_time": "2023-10-28T02:09:04.739419Z",
              "spark_jobs": null,
              "parent_msg_id": "b64955ba-4363-476f-9e09-cc6b2413afef"
            },
            "text/plain": "StatementMeta(spark5bdznl9, 0, 29, Finished, Available)"
          },
          "metadata": {}
        },
        {
          "output_type": "execute_result",
          "execution_count": 29,
          "data": {
            "text/plain": "True"
          },
          "metadata": {}
        }
      ],
      "execution_count": 21,
      "metadata": {
        "jupyter": {
          "source_hidden": false,
          "outputs_hidden": false
        },
        "nteract": {
          "transient": {
            "deleting": false
          }
        }
      }
    },
    {
      "cell_type": "code",
      "source": [
        " %%sql\r\n",
        "\r\n",
        " SELECT * FROM IotDeviceData;"
      ],
      "outputs": [
        {
          "output_type": "display_data",
          "data": {
            "application/vnd.livy.statement-meta+json": {
              "spark_pool": "spark5bdznl9",
              "session_id": "0",
              "statement_id": 30,
              "state": "finished",
              "livy_statement_state": "available",
              "queued_time": "2023-10-28T02:09:44.5066108Z",
              "session_start_time": null,
              "execution_start_time": "2023-10-28T02:09:44.6383748Z",
              "execution_finish_time": "2023-10-28T02:09:47.5252312Z",
              "spark_jobs": null,
              "parent_msg_id": "343c3031-35bc-43c9-8e7c-66790f2d96e4"
            },
            "text/plain": "StatementMeta(spark5bdznl9, 0, 30, Finished, Available)"
          },
          "metadata": {}
        },
        {
          "output_type": "execute_result",
          "execution_count": 22,
          "data": {
            "application/vnd.synapse.sparksql-result+json": {
              "schema": {
                "type": "struct",
                "fields": [
                  {
                    "name": "device",
                    "type": "string",
                    "nullable": true,
                    "metadata": {}
                  },
                  {
                    "name": "status",
                    "type": "string",
                    "nullable": true,
                    "metadata": {}
                  }
                ]
              },
              "data": [
                [
                  "Dev1",
                  "ok"
                ],
                [
                  "Dev1",
                  "ok"
                ],
                [
                  "Dev1",
                  "ok"
                ],
                [
                  "Dev2",
                  "error"
                ],
                [
                  "Dev1",
                  "ok"
                ],
                [
                  "Dev1",
                  "error"
                ],
                [
                  "Dev2",
                  "ok"
                ],
                [
                  "Dev2",
                  "error"
                ],
                [
                  "Dev1",
                  "ok"
                ],
                [
                  "Dev1",
                  "ok"
                ],
                [
                  "Dev1",
                  "ok"
                ],
                [
                  "Dev1",
                  "ok"
                ],
                [
                  "Dev1",
                  "ok"
                ],
                [
                  "Dev1",
                  "error"
                ],
                [
                  "Dev2",
                  "error"
                ],
                [
                  "Dev1",
                  "ok"
                ]
              ]
            },
            "text/plain": "<Spark SQL result set with 16 rows and 2 fields>"
          },
          "metadata": {}
        }
      ],
      "execution_count": 22,
      "metadata": {
        "jupyter": {
          "source_hidden": false,
          "outputs_hidden": false
        },
        "nteract": {
          "transient": {
            "deleting": false
          }
        },
        "microsoft": {
          "language": "sparksql"
        },
        "collapsed": false
      }
    },
    {
      "cell_type": "code",
      "source": [
        " deltastream.stop()"
      ],
      "outputs": [
        {
          "output_type": "display_data",
          "data": {
            "application/vnd.livy.statement-meta+json": {
              "spark_pool": "spark5bdznl9",
              "session_id": "0",
              "statement_id": 31,
              "state": "finished",
              "livy_statement_state": "available",
              "queued_time": "2023-10-28T02:09:55.0652346Z",
              "session_start_time": null,
              "execution_start_time": "2023-10-28T02:09:55.1990058Z",
              "execution_finish_time": "2023-10-28T02:09:55.367993Z",
              "spark_jobs": null,
              "parent_msg_id": "a1428f3f-82f6-464f-8ccc-bbe68a362b90"
            },
            "text/plain": "StatementMeta(spark5bdznl9, 0, 31, Finished, Available)"
          },
          "metadata": {}
        }
      ],
      "execution_count": 23,
      "metadata": {
        "jupyter": {
          "source_hidden": false,
          "outputs_hidden": false
        },
        "nteract": {
          "transient": {
            "deleting": false
          }
        }
      }
    }
  ],
  "metadata": {
    "language_info": {
      "name": "python"
    },
    "kernelspec": {
      "name": "synapse_pyspark",
      "language": "Python",
      "display_name": "Synapse PySpark"
    },
    "kernel_info": {
      "name": "synapse_pyspark"
    },
    "save_output": true,
    "synapse_widget": {
      "version": "0.1",
      "state": {
        "267b73fe-2699-441c-8bf8-1c38a9bc9eff": {
          "type": "Synapse.DataFrame",
          "sync_state": {
            "table": {
              "rows": [
                {
                  "0": "771",
                  "1": "Mountain-100 Silver, 38",
                  "2": "Mountain Bikes",
                  "3": "3399.9900"
                },
                {
                  "0": "772",
                  "1": "Mountain-100 Silver, 42",
                  "2": "Mountain Bikes",
                  "3": "3399.9900"
                },
                {
                  "0": "773",
                  "1": "Mountain-100 Silver, 44",
                  "2": "Mountain Bikes",
                  "3": "3399.9900"
                },
                {
                  "0": "774",
                  "1": "Mountain-100 Silver, 48",
                  "2": "Mountain Bikes",
                  "3": "3399.9900"
                },
                {
                  "0": "775",
                  "1": "Mountain-100 Black, 38",
                  "2": "Mountain Bikes",
                  "3": "3374.9900"
                },
                {
                  "0": "776",
                  "1": "Mountain-100 Black, 42",
                  "2": "Mountain Bikes",
                  "3": "3374.9900"
                },
                {
                  "0": "777",
                  "1": "Mountain-100 Black, 44",
                  "2": "Mountain Bikes",
                  "3": "3374.9900"
                },
                {
                  "0": "778",
                  "1": "Mountain-100 Black, 48",
                  "2": "Mountain Bikes",
                  "3": "3374.9900"
                },
                {
                  "0": "779",
                  "1": "Mountain-200 Silver, 38",
                  "2": "Mountain Bikes",
                  "3": "2319.9900"
                },
                {
                  "0": "780",
                  "1": "Mountain-200 Silver, 42",
                  "2": "Mountain Bikes",
                  "3": "2319.9900"
                }
              ],
              "schema": [
                {
                  "key": "0",
                  "name": "ProductID",
                  "type": "string"
                },
                {
                  "key": "1",
                  "name": "ProductName",
                  "type": "string"
                },
                {
                  "key": "2",
                  "name": "Category",
                  "type": "string"
                },
                {
                  "key": "3",
                  "name": "ListPrice",
                  "type": "string"
                }
              ],
              "truncated": false
            },
            "isSummary": false,
            "language": "scala"
          },
          "persist_state": {
            "view": {
              "type": "details",
              "tableOptions": {},
              "chartOptions": {
                "chartType": "bar",
                "aggregationType": "count",
                "categoryFieldKeys": [
                  "0"
                ],
                "seriesFieldKeys": [
                  "0"
                ],
                "isStacked": false
              }
            }
          }
        },
        "bf2e2be3-6a18-4da5-9da9-cad63fecdcac": {
          "type": "Synapse.DataFrame",
          "sync_state": {
            "table": {
              "rows": [
                {
                  "0": "Dev1",
                  "1": "ok"
                },
                {
                  "0": "Dev1",
                  "1": "ok"
                },
                {
                  "0": "Dev1",
                  "1": "ok"
                },
                {
                  "0": "Dev2",
                  "1": "error"
                },
                {
                  "0": "Dev1",
                  "1": "ok"
                },
                {
                  "0": "Dev1",
                  "1": "error"
                },
                {
                  "0": "Dev2",
                  "1": "ok"
                },
                {
                  "0": "Dev2",
                  "1": "error"
                },
                {
                  "0": "Dev1",
                  "1": "ok"
                }
              ],
              "schema": [
                {
                  "key": "0",
                  "name": "device",
                  "type": "string"
                },
                {
                  "key": "1",
                  "name": "status",
                  "type": "string"
                }
              ],
              "truncated": false
            },
            "isSummary": false,
            "language": "scala"
          },
          "persist_state": {
            "view": {
              "type": "details",
              "tableOptions": {},
              "chartOptions": {
                "chartType": "bar",
                "aggregationType": "count",
                "categoryFieldKeys": [
                  "0"
                ],
                "seriesFieldKeys": [
                  "0"
                ],
                "isStacked": false
              }
            }
          }
        }
      }
    }
  },
  "nbformat": 4,
  "nbformat_minor": 2
}